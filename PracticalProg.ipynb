{
 "cells": [
  {
   "cell_type": "markdown",
   "metadata": {},
   "source": [
    "# Class XII Practical File Programs"
   ]
  },
  {
   "cell_type": "code",
   "execution_count": 42,
   "metadata": {},
   "outputs": [
    {
     "name": "stdout",
     "output_type": "stream",
     "text": [
      "Square =  100\n",
      "cube =  1000\n"
     ]
    }
   ],
   "source": [
    "#1 Write a python script to take input for a number calculate and print its square and cube?\n",
    "a=int(input(\"Enter any no \"))\n",
    "b=a**2\n",
    "c=a**3\n",
    "print(\"Square = \",b)\n",
    "print(\"cube = \",c)"
   ]
  },
  {
   "cell_type": "code",
   "execution_count": 43,
   "metadata": {},
   "outputs": [
    {
     "name": "stdout",
     "output_type": "stream",
     "text": [
      "Sum= 30\n",
      "Product= 200\n",
      "Difference= 10\n"
     ]
    }
   ],
   "source": [
    "#2 Write a python script to take input for 2 numbers calculate and print their sum, product and difference?\n",
    "uinput1=int(input(\"Enter 1st Number: \"))\n",
    "uinput2=int(input(\"Enter 2st Number: \"))\n",
    "sum=uinput1+uinput2\n",
    "product=uinput1*uinput2\n",
    "if uinput1>uinput2:\n",
    "    difference=uinput1-uinput2\n",
    "else:\n",
    "    difference=uinput2-uinput1\n",
    "print(\"Sum=\",sum)\n",
    "print(\"Product=\",product)\n",
    "print(\"Difference=\",difference)"
   ]
  },
  {
   "cell_type": "code",
   "execution_count": 44,
   "metadata": {},
   "outputs": [
    {
     "name": "stdout",
     "output_type": "stream",
     "text": [
      "Max no =  98\n"
     ]
    }
   ],
   "source": [
    "#3 Write a python script to take input for 3 numbers, check and print the largest number.\n",
    "uinput1=int(input(\"Enter 1st no \"))\n",
    "uinput2=int(input(\"Enter 2nd no \"))\n",
    "uinput3=int(input(\"Enter 3rd no \"))\n",
    "if(uinput1>uinput2 and uinput1>uinput3):\n",
    "    maximum=uinput1\n",
    "elif(uinput2>uinput3):\n",
    "    maximum=uinput2\n",
    "else:\n",
    "    maximum=uinput3\n",
    "print(\"Max no = \",maximum)"
   ]
  },
  {
   "cell_type": "code",
   "execution_count": 46,
   "metadata": {},
   "outputs": [
    {
     "name": "stdout",
     "output_type": "stream",
     "text": [
      "Sum= 30\n"
     ]
    }
   ],
   "source": [
    "#4 Write a python script to take input for 2 numbers and an operator (+ , – , * , / ). Based on the operator calculate and print the result.\n",
    "uinput1=int(input(\"Enter 1st number: \"))\n",
    "uinput2=int(input(\"Enter 2st number: \"))\n",
    "opr=input(\"Enter operator (+,-,*,/): \")\n",
    "if opr=='+':\n",
    "    print(\"Sum=\",uinput1+uinput2)\n",
    "elif opr=='-':\n",
    "    print(\"Difference=\",abs(uinput1-uinput2))\n",
    "elif opr=='*':\n",
    "    print(\"Product=\",uinput1*uinput2)\n",
    "elif opr=='/':\n",
    "    try:\n",
    "        print(\"Divided=\",uinput1/uinput2)\n",
    "    except ZeroDivisionError:\n",
    "        print(\"Input should not be zero..\")\n",
    "else:\n",
    "        print(\"Invalid Operator...\")"
   ]
  },
  {
   "cell_type": "code",
   "execution_count": 47,
   "metadata": {},
   "outputs": [
    {
     "name": "stdout",
     "output_type": "stream",
     "text": [
      "Hi Ram, you are eligible to vote.\n"
     ]
    }
   ],
   "source": [
    "#5 Write a python script to take input for name and age of a person check and print whether the person can vote or not\n",
    "name=input(\"Enter name: \")\n",
    "age=int(input(\"Enter age: \"))\n",
    "if age >=18:\n",
    "    print(f\"Hi {name}, you are eligible to vote.\")\n",
    "else:\n",
    "    print(f\"Sorry {name}, you are not eligible to vote.\")"
   ]
  },
  {
   "cell_type": "code",
   "execution_count": 48,
   "metadata": {},
   "outputs": [
    {
     "name": "stdout",
     "output_type": "stream",
     "text": [
      "5 * 1 = 5\n",
      "5 * 2 = 10\n",
      "5 * 3 = 15\n",
      "5 * 4 = 20\n",
      "5 * 5 = 25\n",
      "5 * 6 = 30\n",
      "5 * 7 = 35\n",
      "5 * 8 = 40\n",
      "5 * 9 = 45\n",
      "5 * 10 = 50\n"
     ]
    }
   ],
   "source": [
    "#6 Write a python script to take input for a number and print its table.\n",
    "uinput=int(input(\"Enter number: \"))\n",
    "for i in range(1,11):\n",
    "    print(uinput,\"*\",i,\"=\",uinput*i)"
   ]
  },
  {
   "cell_type": "code",
   "execution_count": 49,
   "metadata": {},
   "outputs": [
    {
     "name": "stdout",
     "output_type": "stream",
     "text": [
      "Factorial is= 120\n"
     ]
    }
   ],
   "source": [
    "#7 Write a python script to take input for a number and print its factorial.\n",
    "uinput=int(input(\"Enter Number: \"))\n",
    "fact=uinput\n",
    "for i in range(uinput-1,0,-1):\n",
    "    fact*=i\n",
    "print(\"Factorial is=\",fact)"
   ]
  },
  {
   "cell_type": "code",
   "execution_count": 50,
   "metadata": {},
   "outputs": [
    {
     "name": "stdout",
     "output_type": "stream",
     "text": [
      "Armstrong Number\n"
     ]
    }
   ],
   "source": [
    "#8 Write a python script to take input for a number check if the entered number is Armstrong or not.\n",
    "uinput=input(\"Enter a Number: \")\n",
    "sum=0\n",
    "for i in uinput:\n",
    "    sum+=int(i)**3\n",
    "if sum==int(uinput):\n",
    "    print(\"Armstrong Number\")\n",
    "else:\n",
    "    print(\"Not Armstrong Number\")"
   ]
  },
  {
   "cell_type": "code",
   "execution_count": 51,
   "metadata": {},
   "outputs": [
    {
     "name": "stdout",
     "output_type": "stream",
     "text": [
      "Factorial is= 120\n"
     ]
    }
   ],
   "source": [
    "#9 Write a python script to take input for a number and print its factorial using recursion.\n",
    "def factorial(num):\n",
    "    if num==1:\n",
    "        return 1\n",
    "    return num*factorial(num-1)\n",
    "uinput=int(input(\"Enter number: \"))\n",
    "if uinput<0:\n",
    "    print(\"Sorry, factorial does not exist for negative numbers.\")\n",
    "elif uinput==0:\n",
    "    print(\"Factorial is=\",1)\n",
    "else:\n",
    "    print(\"Factorial is=\",factorial(uinput))"
   ]
  },
  {
   "cell_type": "code",
   "execution_count": 57,
   "metadata": {},
   "outputs": [
    {
     "name": "stdout",
     "output_type": "stream",
     "text": [
      "Fibonacci Series...\n",
      "0 1 1 2 3 5 8 13 21 34 "
     ]
    }
   ],
   "source": [
    "#10 Write a python script to Display Fibonacci Sequence Using Recursion. 0 1 1 2 3 5 8\n",
    "def fibonacci(num):\n",
    "    if num<=1:\n",
    "        return num\n",
    "    return fibonacci(num-1)+fibonacci(num-2)\n",
    "uinput=int(input(\"Enter Positive number: \"))\n",
    "if uinput<0:\n",
    "    print(\"Negative numbers not valid input.\")\n",
    "else:\n",
    "    print(\"Fibonacci Series...\")\n",
    "    for i in range(0,uinput):\n",
    "        print(fibonacci(i),end=' ')"
   ]
  },
  {
   "cell_type": "code",
   "execution_count": 63,
   "metadata": {},
   "outputs": [
    {
     "name": "stdout",
     "output_type": "stream",
     "text": [
      "Select from following...\n",
      "1. Push\n",
      "2. Pop\n",
      "3. Traverse\n",
      "4. Exit\n",
      "Add the item successfully..\n",
      "\n",
      " -------------------- \n",
      "\n",
      "Select from following...\n",
      "1. Push\n",
      "2. Pop\n",
      "3. Traverse\n",
      "4. Exit\n"
     ]
    }
   ],
   "source": [
    "#11 Write a python program to maintain book details like book code, book title and price using stacks data structures? (implement push(), pop() and traverse() functions)\n",
    "def isEmpty(stk):\n",
    "    if stk==[]:\n",
    "        return True\n",
    "    return False\n",
    "\n",
    "def push(stk):\n",
    "    bcode=input(\"Enter Book Code: \")\n",
    "    btitle=input(\"Enter Book Title: \")\n",
    "    bprice=float(input(\"Enter Book Price: \"))\n",
    "    stk.append((bcode,btitle,bprice))\n",
    "    print(\"Add the item successfully..\")\n",
    "\n",
    "def pop(stk):\n",
    "    if isEmpty(stk):\n",
    "        print(\"Underflow/Book Stack is empty.\")\n",
    "    else:\n",
    "        bcode,btitle,bprice=stk.pop()\n",
    "        print(f\"Popped element is {bcode},{btitle},{bprice}\")\n",
    "\n",
    "def traverse(stk):\n",
    "    if isEmpty(stk):\n",
    "        print(\"Stack is Empty..\")\n",
    "    else:\n",
    "        print(stk[-1],\"<--top\")\n",
    "        for i in range(len(stk)-1,0,-1):\n",
    "            print(stk[i])\n",
    "\n",
    "stack=[]\n",
    "while True:\n",
    "    print(\"Select from following...\\n1. Push\\n2. Pop\\n3. Traverse\\n4. Exit\")\n",
    "    choice=int(input(\"Enter choice: \"))\n",
    "    if choice==1:\n",
    "        push(stack)\n",
    "    elif choice==2:\n",
    "        pop(stack)\n",
    "    elif choice==3:\n",
    "        traverse(stack)\n",
    "    elif choice==4:\n",
    "        break\n",
    "    else:\n",
    "        print(\"Invalid choice\")\n",
    "    print(\"\\n\",'-'*20,\"\\n\")"
   ]
  },
  {
   "cell_type": "code",
   "execution_count": 65,
   "metadata": {},
   "outputs": [
    {
     "name": "stdout",
     "output_type": "stream",
     "text": [
      "Select from the following..\n",
      "1.Insert\n",
      "2.Delete\n",
      "3.Traverse\n",
      "4.Exit\n",
      "Queue is Empty\n",
      "Select from the following..\n",
      "1.Insert\n",
      "2.Delete\n",
      "3.Traverse\n",
      "4.Exit\n",
      "Queue is Empty\n",
      "Select from the following..\n",
      "1.Insert\n",
      "2.Delete\n",
      "3.Traverse\n",
      "4.Exit\n",
      "Added data successfully...\n",
      "Select from the following..\n",
      "1.Insert\n",
      "2.Delete\n",
      "3.Traverse\n",
      "4.Exit\n",
      "('123', 'Hay', '2390')\n",
      "Select from the following..\n",
      "1.Insert\n",
      "2.Delete\n",
      "3.Traverse\n",
      "4.Exit\n"
     ]
    }
   ],
   "source": [
    "#12 Write a python program to maintain employee details like empno,name and salary using Queues data structure? (implement insert(), delete() and traverse() functions).\n",
    "def isEmpty(que):\n",
    "    if que==[]:\n",
    "        return True\n",
    "    return False\n",
    "\n",
    "def insert(que):\n",
    "    eno=input(\"Enter EmpNo: \")\n",
    "    ename=input(\"Enter EmpName: \")\n",
    "    esalary=float(input(\"Enter EmpSalary: \"))\n",
    "    que.append((eno,ename,esalary))\n",
    "    print(\"Added data successfully...\")\n",
    "\n",
    "def delete(que):\n",
    "    if isEmpty(que):\n",
    "        print(\"Underflow/Employee Queue is empty\")\n",
    "    else:\n",
    "        eno,ename,esalary=que.pop()\n",
    "        print(\"Data Removed: \",eno,ename,esalary)\n",
    "\n",
    "def traverse(que):\n",
    "    if isEmpty(que):\n",
    "        print(\"Queue is Empty\")\n",
    "    else:\n",
    "        for i in que:\n",
    "            print(i)\n",
    "\n",
    "queue=[]\n",
    "while True:\n",
    "    print(\"Select from the following..\\n1.Insert\\n2.Delete\\n3.Traverse\\n4.Exit\")\n",
    "    choice=int(input(\"Enter your choice: \"))\n",
    "    if choice==1:\n",
    "        insert(queue)\n",
    "    elif choice==2:\n",
    "        delete(queue)\n",
    "    elif choice==3:\n",
    "        traverse(queue)\n",
    "    elif choice==4:\n",
    "        break\n",
    "    else:\n",
    "        print(\"Invalid choice..\")"
   ]
  },
  {
   "cell_type": "code",
   "execution_count": 87,
   "metadata": {},
   "outputs": [
    {
     "name": "stdout",
     "output_type": "stream",
     "text": [
      "Total Alphabets:  34\n"
     ]
    }
   ],
   "source": [
    "#13 Write a python program to read a file named “article.txt”, count and print total alphabets in the file.\n",
    "file =open('./article.txt','r')\n",
    "data=file.read()\n",
    "file.close()\n",
    "count=0\n",
    "for i in data:\n",
    "    if i.isalpha():\n",
    "        count+=1\n",
    "print(\"Total Alphabets: \",count)"
   ]
  },
  {
   "cell_type": "code",
   "execution_count": 89,
   "metadata": {},
   "outputs": [
    {
     "name": "stdout",
     "output_type": "stream",
     "text": [
      "Enter details for student 1 below:\n"
     ]
    }
   ],
   "source": [
    "#14 Write a program to get roll numbers, names and marks of the students of a class (get from user) and store these details in a file called \"Marks.det\".\n",
    "count = int(input(\"How many students are there in the class?\"))\n",
    "fileout = open (\"Marks.det\", \"W\")\n",
    "for i in range(count):\n",
    "    print(\"Enter details for student\", (i+1), \"below:\")\n",
    "    rollno = int(input(\"Rollno:\"))\n",
    "    name = input(\"Name :\")\n",
    "    marks = float(input(\"Marks:\"))\n",
    "    rec = str(rollno) + \",\" + name + \",\" + str(marks) +'\\n'\n",
    "    fileout.write(rec)\n",
    "fileout.close()"
   ]
  },
  {
   "cell_type": "code",
   "execution_count": 6,
   "metadata": {},
   "outputs": [
    {
     "name": "stdout",
     "output_type": "stream",
     "text": [
      "Total words starting with a are: 4\n"
     ]
    }
   ],
   "source": [
    "#15 Write a python program to read a file named “story.txt”, count and print total words starting with “a” or “A” in the file.\n",
    "file = open(\"story.txt\",'r')\n",
    "data=file.read()\n",
    "file.close()\n",
    "data=data.split()\n",
    "count=0\n",
    "for i in data:\n",
    "    if i[0].lower()=='a':\n",
    "        count+=1\n",
    "print(\"Total words starting with a are:\",count)"
   ]
  },
  {
   "cell_type": "code",
   "execution_count": 14,
   "metadata": {},
   "outputs": [
    {
     "name": "stdout",
     "output_type": "stream",
     "text": [
      "Total lines starting with vowel are: 2\n"
     ]
    }
   ],
   "source": [
    "#16 Write a python program to read a file named “story.txt”, count and print total lines starting with vowels in the file.\n",
    "file = open(\"story.txt\",'r')\n",
    "line=file.readline()\n",
    "count=0\n",
    "while line:\n",
    "    if line[0].lower() in 'aeiou':\n",
    "        count+=1\n",
    "    line=file.readline()\n",
    "file.close()\n",
    "print(\"Total lines starting with vowel are:\",count)"
   ]
  },
  {
   "cell_type": "code",
   "execution_count": 47,
   "metadata": {},
   "outputs": [
    {
     "data": {
      "image/png": "[encoded data removed]",
      "text/plain": [
       "<Figure size 640x480 with 1 Axes>"
      ]
     },
     "metadata": {},
     "output_type": "display_data"
    }
   ],
   "source": [
    "#17 Write a python program to plot a sine wave using a line chart.\n",
    "import matplotlib.pyplot as plt\n",
    "import numpy as np\n",
    "angles=np.linspace(-np.pi,np.pi)\n",
    "amp=np.sin(angles)*-1\n",
    "plt.plot([i*180/np.pi for i in angles],amp)\n",
    "plt.xlabel(\"Angles\")\n",
    "plt.ylabel(\"Amplitude\")\n",
    "plt.axhline(y=0, color='k')\n",
    "plt.grid()\n",
    "plt.show()"
   ]
  },
  {
   "cell_type": "code",
   "execution_count": 78,
   "metadata": {},
   "outputs": [
    {
     "data": {
      "image/png": "[encoded data removed]",
      "text/plain": [
       "<Figure size 640x480 with 1 Axes>"
      ]
     },
     "metadata": {},
     "output_type": "display_data"
    }
   ],
   "source": [
    "#18 Write a python program to plot bar chart.\n",
    "import matplotlib.pyplot as plt\n",
    "import numpy as np\n",
    "labels=np.array([\"Apple\",\"Orange\",\"Pineapple\",\"Grapes\",\"Black Berry\",\"Jackfruit\"])\n",
    "numbers=np.array([10,8,5,4,2,1])\n",
    "plt.barh(labels,numbers,align=\"center\",color='k')\n",
    "plt.xlabel(\"Quantity ---->\")\n",
    "plt.ylabel(\"Type ----->\")\n",
    "plt.title(\"Type vs Quantity\")\n",
    "plt.show()"
   ]
  },
  {
   "cell_type": "code",
   "execution_count": 86,
   "metadata": {},
   "outputs": [
    {
     "name": "stdout",
     "output_type": "stream",
     "text": [
      "Record added succesfully...\n"
     ]
    }
   ],
   "source": [
    "#19 Write a function to insert a record in table using python and MySQL interface.\n",
    "import mysql.connector as sql\n",
    "\n",
    "def insert_data(mycon,cursor):\n",
    "    i_name=input(\"Enter Item Name:\")\n",
    "    i_price=float(input(\"Enter Item Price:\"))\n",
    "    query=f\"insert into Items(Item_Name,Price) values('{i_name}',{i_price});\"\n",
    "    try:\n",
    "        cursor.execute(query)\n",
    "        mycon.commit()\n",
    "        print(\"Record added succesfully...\")\n",
    "    except:\n",
    "        print(\"Problem occured in connection.\")\n",
    "        mycon.close()\n",
    "\n",
    "mycon=sql.connect(host=\"localhost\",user=\"root\",passwd=\"\",database=\"dbase\",auth_plugin='mysql_native_password')\n",
    "if mycon.is_connected():\n",
    "    cursor=mycon.cursor()\n",
    "    insert_data(mycon,cursor)\n",
    "else:\n",
    "    print(\"Not connected\")"
   ]
  },
  {
   "cell_type": "code",
   "execution_count": 89,
   "metadata": {},
   "outputs": [
    {
     "name": "stdout",
     "output_type": "stream",
     "text": [
      "ItemNo\tItems_Name\tPrice\n",
      "11 \t Milk \t 15.0\n",
      "12 \t Cake \t 5.0\n",
      "13 \t Bread \t 9.0\n",
      "14 \t Milk Bread \t 14.0\n",
      "15 \t Plain Biscuit \t 6.0\n",
      "16 \t Cream Biscuit \t 10.0\n",
      "17 \t Ice Cream \t 16.0\n",
      "18 \t Cold Drink \t 8.0\n",
      "19 \t Namkeen \t 15.0\n"
     ]
    }
   ],
   "source": [
    "#20 Write a function to display all the records stored in a table using python and MySQL interface.\n",
    "import mysql.connector as sql\n",
    "\n",
    "def display(mycon,cursor):\n",
    "    cursor.execute(\"select * from Items;\")\n",
    "    print(\"ItemNo\\tItems_Name\\tPrice\")\n",
    "    for i in cursor:\n",
    "        print(i[0],\"\\t\",i[1],\"\\t\",i[2])\n",
    "mycon=sql.connect(host=\"localhost\",user=\"root\",passwd=\"Soumadeep@123\",database=\"dbase\",auth_plugin='mysql_native_password')\n",
    "if mycon.is_connected():\n",
    "    cursor=mycon.cursor()\n",
    "    display(mycon,cursor)\n",
    "else:\n",
    "    print(\"Not connected...\")"
   ]
  },
  {
   "cell_type": "code",
   "execution_count": 98,
   "metadata": {},
   "outputs": [
    {
     "name": "stdout",
     "output_type": "stream",
     "text": [
      "ItemNo\tItems_Name\tPrice\n",
      "11 \t Milk \t 15.0\n"
     ]
    }
   ],
   "source": [
    "#21 Write a function to search a record stored in a table using python and MySQL interface.\n",
    "import mysql.connector as sql\n",
    "\n",
    "def search(cursor):\n",
    "    search_element=input(\"Enter element to search: \")\n",
    "    if search_element.isdigit():\n",
    "        query=f\"select * from Items where Price={search_element}\"\n",
    "    else:\n",
    "        query=f\"select * from Items where Item_Name='{search_element}'\"\n",
    "    cursor.execute(query)\n",
    "    print(\"ItemNo\\tItems_Name\\tPrice\")\n",
    "    for i in cursor:\n",
    "        print(i[0],\"\\t\",i[1],\"\\t\",i[2])\n",
    "\n",
    "mycon=sql.connect(host=\"localhost\",user=\"root\",passwd=\"Soumadeep@123\",database=\"dbase\",auth_plugin='mysql_native_password')\n",
    "if mycon.is_connected():\n",
    "    cursor=mycon.cursor()\n",
    "    search(cursor)\n",
    "else:\n",
    "    print(\"Not connected...\")"
   ]
  },
  {
   "cell_type": "markdown",
   "metadata": {},
   "source": [
    "### QUERIES: Q1..\n",
    "Q.1. To display the details of those clients whose city is “delhi”<br>\n",
    "Ans: ```Select * from client where city=’Delhi’;```\n",
    "\n",
    "\n",
    "Q.2 To display the details of products whose price is in the range of 50 to 100<br>\n",
    "Ans: ```select * from product where price between 50 and 100```;<br>\n",
    "```select * from product where price>=50 and price<=100```;\n",
    "\n",
    "\n",
    "Q.3 TO DISPLAY THE client name ,city from table client and productname and price from the table product with their corresponding matching p_id<br>\n",
    "Ans: ```select clientname, city, productname, price from client, product where client.p_id=product.p_id;```\n",
    "\n",
    "\n",
    "Q.4 To increase the price of the product by 10 <br>\n",
    "Ans: ```update product set price=price+10;```\n",
    "\n",
    "\n",
    "Q.5. Select distinct city from client; <br>\n",
    "Ans: <br>\n",
    "Delhi<br>\n",
    "Mumbai <br>\n",
    "Banglore<br>"
   ]
  },
  {
   "cell_type": "markdown",
   "metadata": {},
   "source": [
    "### QUERUES Q2..\n",
    "Q. 1: To display the names of all the consignors from Mumbai<br>\n",
    "Ans: ```select cnorname From consignor where city=’mumbai’;```<br>\n",
    "\n",
    "Q. 2: To display the cneeid,cnorname,cnoradress,cneenmae,cneeaddress for every consignee<br>\n",
    "Ans: ```select cneeid,cnoraddress,cneename,cneeaddess from consignor, consignee where consignor.cnorid=consignee.cnorid;``` <br>\n",
    "\n",
    "\n",
    "Q. 3: To display consignee details in ascending order of cneename.<br>\n",
    "Ans: ```select * from consignee order by cneename;```<br>\n",
    "\n",
    "Q. 4: To display number of consignee from each city.<br>\n",
    "Ans: ```select cneecity,count(cneecity) from consignee group by cneecity;```<br>\n",
    "\n",
    "\n",
    "Q. 5: ```select distinct cneecity from consignee;```<br> \n",
    "Ans: <br>\n",
    "Mumbai<br>\n",
    "New Delhi<br>\n",
    "Kolkata<br>"
   ]
  }
 ],
 "metadata": {
  "kernelspec": {
   "display_name": "Python 3 (ipykernel)",
   "language": "python",
   "name": "python3"
  },
  "language_info": {
   "codemirror_mode": {
    "name": "ipython",
    "version": 3
   },
   "file_extension": ".py",
   "mimetype": "text/x-python",
   "name": "python",
   "nbconvert_exporter": "python",
   "pygments_lexer": "ipython3",
   "version": "3.11.0"
  },
  "orig_nbformat": 4,
  "vscode": {
   "interpreter": {
    "hash": "aee8b7b246df8f9039afb4144a1f6fd8d2ca17a180786b69acc140d282b71a49"
   }
  }
 },
 "nbformat": 4,
 "nbformat_minor": 2
}
