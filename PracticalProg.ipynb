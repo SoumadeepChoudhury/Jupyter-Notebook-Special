{
 "cells": [
  {
   "cell_type": "markdown",
   "metadata": {},
   "source": [
    "# Class XII Practical File Programs"
   ]
  },
  {
   "cell_type": "code",
   "execution_count": 42,
   "metadata": {
    "vscode": {
     "languageId": "python"
    }
   },
   "outputs": [
    {
     "name": "stdout",
     "output_type": "stream",
     "text": [
      "Square =  100\n",
      "cube =  1000\n"
     ]
    }
   ],
   "source": [
    "#1 Write a python script to take input for a number calculate and print its square and cube?\n",
    "a=int(input(\"Enter any no \"))\n",
    "b=a**2\n",
    "c=a**3\n",
    "print(\"Square = \",b)\n",
    "print(\"cube = \",c)"
   ]
  },
  {
   "cell_type": "code",
   "execution_count": 43,
   "metadata": {
    "vscode": {
     "languageId": "python"
    }
   },
   "outputs": [
    {
     "name": "stdout",
     "output_type": "stream",
     "text": [
      "Sum= 30\n",
      "Product= 200\n",
      "Difference= 10\n"
     ]
    }
   ],
   "source": [
    "#2 Write a python script to take input for 2 numbers calculate and print their sum, product and difference?\n",
    "uinput1=int(input(\"Enter 1st Number: \"))\n",
    "uinput2=int(input(\"Enter 2st Number: \"))\n",
    "sum=uinput1+uinput2\n",
    "product=uinput1*uinput2\n",
    "if uinput1>uinput2:\n",
    "    difference=uinput1-uinput2\n",
    "else:\n",
    "    difference=uinput2-uinput1\n",
    "print(\"Sum=\",sum)\n",
    "print(\"Product=\",product)\n",
    "print(\"Difference=\",difference)"
   ]
  },
  {
   "cell_type": "code",
   "execution_count": 44,
   "metadata": {
    "vscode": {
     "languageId": "python"
    }
   },
   "outputs": [
    {
     "name": "stdout",
     "output_type": "stream",
     "text": [
      "Max no =  98\n"
     ]
    }
   ],
   "source": [
    "#3 Write a python script to take input for 3 numbers, check and print the largest number.\n",
    "uinput1=int(input(\"Enter 1st no \"))\n",
    "uinput2=int(input(\"Enter 2nd no \"))\n",
    "uinput3=int(input(\"Enter 3rd no \"))\n",
    "if(uinput1>uinput2 and uinput1>uinput3):\n",
    "    maximum=uinput1\n",
    "elif(uinput2>uinput3):\n",
    "    maximum=uinput2\n",
    "else:\n",
    "    maximum=uinput3\n",
    "print(\"Max no = \",maximum)"
   ]
  },
  {
   "cell_type": "code",
   "execution_count": 46,
   "metadata": {
    "vscode": {
     "languageId": "python"
    }
   },
   "outputs": [
    {
     "name": "stdout",
     "output_type": "stream",
     "text": [
      "Sum= 30\n"
     ]
    }
   ],
   "source": [
    "#4 Write a python script to take input for 2 numbers and an operator (+ , – , * , / ). Based on the operator calculate and print the result.\n",
    "uinput1=int(input(\"Enter 1st number: \"))\n",
    "uinput2=int(input(\"Enter 2st number: \"))\n",
    "opr=input(\"Enter operator (+,-,*,/): \")\n",
    "if opr=='+':\n",
    "    print(\"Sum=\",uinput1+uinput2)\n",
    "elif opr=='-':\n",
    "    print(\"Difference=\",abs(uinput1-uinput2))\n",
    "elif opr=='*':\n",
    "    print(\"Product=\",uinput1*uinput2)\n",
    "elif opr=='/':\n",
    "    try:\n",
    "        print(\"Divided=\",uinput1/uinput2)\n",
    "    except ZeroDivisionError:\n",
    "        print(\"Input should not be zero..\")\n",
    "else:\n",
    "        print(\"Invalid Operator...\")"
   ]
  },
  {
   "cell_type": "code",
   "execution_count": 47,
   "metadata": {
    "vscode": {
     "languageId": "python"
    }
   },
   "outputs": [
    {
     "name": "stdout",
     "output_type": "stream",
     "text": [
      "Hi Ram, you are eligible to vote.\n"
     ]
    }
   ],
   "source": [
    "#5 Write a python script to take input for name and age of a person check and print whether the person can vote or not\n",
    "name=input(\"Enter name: \")\n",
    "age=int(input(\"Enter age: \"))\n",
    "if age >=18:\n",
    "    print(f\"Hi {name}, you are eligible to vote.\")\n",
    "else:\n",
    "    print(f\"Sorry {name}, you are not eligible to vote.\")"
   ]
  },
  {
   "cell_type": "code",
   "execution_count": 48,
   "metadata": {
    "vscode": {
     "languageId": "python"
    }
   },
   "outputs": [
    {
     "name": "stdout",
     "output_type": "stream",
     "text": [
      "5 * 1 = 5\n",
      "5 * 2 = 10\n",
      "5 * 3 = 15\n",
      "5 * 4 = 20\n",
      "5 * 5 = 25\n",
      "5 * 6 = 30\n",
      "5 * 7 = 35\n",
      "5 * 8 = 40\n",
      "5 * 9 = 45\n",
      "5 * 10 = 50\n"
     ]
    }
   ],
   "source": [
    "#6 Write a python script to take input for a number and print its table.\n",
    "uinput=int(input(\"Enter number: \"))\n",
    "for i in range(1,11):\n",
    "    print(uinput,\"*\",i,\"=\",uinput*i)"
   ]
  },
  {
   "cell_type": "code",
   "execution_count": 49,
   "metadata": {
    "vscode": {
     "languageId": "python"
    }
   },
   "outputs": [
    {
     "name": "stdout",
     "output_type": "stream",
     "text": [
      "Factorial is= 120\n"
     ]
    }
   ],
   "source": [
    "#7 Write a python script to take input for a number and print its factorial.\n",
    "uinput=int(input(\"Enter Number: \"))\n",
    "fact=uinput\n",
    "for i in range(uinput-1,0,-1):\n",
    "    fact*=i\n",
    "print(\"Factorial is=\",fact)"
   ]
  },
  {
   "cell_type": "code",
   "execution_count": 50,
   "metadata": {
    "vscode": {
     "languageId": "python"
    }
   },
   "outputs": [
    {
     "name": "stdout",
     "output_type": "stream",
     "text": [
      "Armstrong Number\n"
     ]
    }
   ],
   "source": [
    "#8 Write a python script to take input for a number check if the entered number is Armstrong or not.\n",
    "uinput=input(\"Enter a Number: \")\n",
    "sum=0\n",
    "for i in uinput:\n",
    "    sum+=int(i)**3\n",
    "if sum==int(uinput):\n",
    "    print(\"Armstrong Number\")\n",
    "else:\n",
    "    print(\"Not Armstrong Number\")"
   ]
  },
  {
   "cell_type": "code",
   "execution_count": 51,
   "metadata": {
    "vscode": {
     "languageId": "python"
    }
   },
   "outputs": [
    {
     "name": "stdout",
     "output_type": "stream",
     "text": [
      "Factorial is= 120\n"
     ]
    }
   ],
   "source": [
    "#9 Write a python script to take input for a number and print its factorial using recursion.\n",
    "def factorial(num):\n",
    "    if num==1:\n",
    "        return 1\n",
    "    return num*factorial(num-1)\n",
    "uinput=int(input(\"Enter number: \"))\n",
    "if uinput<0:\n",
    "    print(\"Sorry, factorial does not exist for negative numbers.\")\n",
    "elif uinput==0:\n",
    "    print(\"Factorial is=\",1)\n",
    "else:\n",
    "    print(\"Factorial is=\",factorial(uinput))"
   ]
  },
  {
   "cell_type": "code",
   "execution_count": 57,
   "metadata": {
    "vscode": {
     "languageId": "python"
    }
   },
   "outputs": [
    {
     "name": "stdout",
     "output_type": "stream",
     "text": [
      "Fibonacci Series...\n",
      "0 1 1 2 3 5 8 13 21 34 "
     ]
    }
   ],
   "source": [
    "#10 Write a python script to Display Fibonacci Sequence Using Recursion. 0 1 1 2 3 5 8\n",
    "def fibonacci(num):\n",
    "    if num<=1:\n",
    "        return num\n",
    "    return fibonacci(num-1)+fibonacci(num-2)\n",
    "uinput=int(input(\"Enter Positive number: \"))\n",
    "if uinput<0:\n",
    "    print(\"Negative numbers not valid input.\")\n",
    "else:\n",
    "    print(\"Fibonacci Series...\")\n",
    "    for i in range(0,uinput):\n",
    "        print(fibonacci(i),end=' ')"
   ]
  },
  {
   "cell_type": "code",
   "execution_count": 63,
   "metadata": {
    "vscode": {
     "languageId": "python"
    }
   },
   "outputs": [
    {
     "name": "stdout",
     "output_type": "stream",
     "text": [
      "Select from following...\n",
      "1. Push\n",
      "2. Pop\n",
      "3. Traverse\n",
      "4. Exit\n",
      "Add the item successfully..\n",
      "\n",
      " -------------------- \n",
      "\n",
      "Select from following...\n",
      "1. Push\n",
      "2. Pop\n",
      "3. Traverse\n",
      "4. Exit\n"
     ]
    }
   ],
   "source": [
    "#11 Write a python program to maintain book details like book code, book title and price using stacks data structures? (implement push(), pop() and traverse() functions)\n",
    "def isEmpty(stk):\n",
    "    if stk==[]:\n",
    "        return True\n",
    "    return False\n",
    "\n",
    "def push(stk):\n",
    "    bcode=input(\"Enter Book Code: \")\n",
    "    btitle=input(\"Enter Book Title: \")\n",
    "    bprice=float(input(\"Enter Book Price: \"))\n",
    "    stk.append((bcode,btitle,bprice))\n",
    "    print(\"Add the item successfully..\")\n",
    "\n",
    "def pop(stk):\n",
    "    if isEmpty(stk):\n",
    "        print(\"Underflow/Book Stack is empty.\")\n",
    "    else:\n",
    "        bcode,btitle,bprice=stk.pop()\n",
    "        print(f\"Popped element is {bcode},{btitle},{bprice}\")\n",
    "\n",
    "def traverse(stk):\n",
    "    if isEmpty(stk):\n",
    "        print(\"Stack is Empty..\")\n",
    "    else:\n",
    "        print(stk[-1],\"<--top\")\n",
    "        for i in range(len(stk)-1,0,-1):\n",
    "            print(stk[i])\n",
    "\n",
    "stack=[]\n",
    "while True:\n",
    "    print(\"Select from following...\\n1. Push\\n2. Pop\\n3. Traverse\\n4. Exit\")\n",
    "    choice=int(input(\"Enter choice: \"))\n",
    "    if choice==1:\n",
    "        push(stack)\n",
    "    elif choice==2:\n",
    "        pop(stack)\n",
    "    elif choice==3:\n",
    "        traverse(stack)\n",
    "    elif choice==4:\n",
    "        break\n",
    "    else:\n",
    "        print(\"Invalid choice\")\n",
    "    print(\"\\n\",'-'*20,\"\\n\")"
   ]
  },
  {
   "cell_type": "code",
   "execution_count": 65,
   "metadata": {
    "vscode": {
     "languageId": "python"
    }
   },
   "outputs": [
    {
     "name": "stdout",
     "output_type": "stream",
     "text": [
      "Select from the following..\n",
      "1.Insert\n",
      "2.Delete\n",
      "3.Traverse\n",
      "4.Exit\n",
      "Queue is Empty\n",
      "Select from the following..\n",
      "1.Insert\n",
      "2.Delete\n",
      "3.Traverse\n",
      "4.Exit\n",
      "Queue is Empty\n",
      "Select from the following..\n",
      "1.Insert\n",
      "2.Delete\n",
      "3.Traverse\n",
      "4.Exit\n",
      "Added data successfully...\n",
      "Select from the following..\n",
      "1.Insert\n",
      "2.Delete\n",
      "3.Traverse\n",
      "4.Exit\n",
      "('123', 'Hay', '2390')\n",
      "Select from the following..\n",
      "1.Insert\n",
      "2.Delete\n",
      "3.Traverse\n",
      "4.Exit\n"
     ]
    }
   ],
   "source": [
    "#12 Write a python program to maintain employee details like empno,name and salary using Queues data structure? (implement insert(), delete() and traverse() functions).\n",
    "def isEmpty(que):\n",
    "    if que==[]:\n",
    "        return True\n",
    "    return False\n",
    "\n",
    "def insert(que):\n",
    "    eno=input(\"Enter EmpNo: \")\n",
    "    ename=input(\"Enter EmpName: \")\n",
    "    esalary=float(input(\"Enter EmpSalary: \"))\n",
    "    que.append((eno,ename,esalary))\n",
    "    print(\"Added data successfully...\")\n",
    "\n",
    "def delete(que):\n",
    "    if isEmpty(que):\n",
    "        print(\"Underflow/Employee Queue is empty\")\n",
    "    else:\n",
    "        eno,ename,esalary=que.pop()\n",
    "        print(\"Data Removed: \",eno,ename,esalary)\n",
    "\n",
    "def traverse(que):\n",
    "    if isEmpty(que):\n",
    "        print(\"Queue is Empty\")\n",
    "    else:\n",
    "        for i in que:\n",
    "            print(i)\n",
    "\n",
    "queue=[]\n",
    "while True:\n",
    "    print(\"Select from the following..\\n1.Insert\\n2.Delete\\n3.Traverse\\n4.Exit\")\n",
    "    choice=int(input(\"Enter your choice: \"))\n",
    "    if choice==1:\n",
    "        insert(queue)\n",
    "    elif choice==2:\n",
    "        delete(queue)\n",
    "    elif choice==3:\n",
    "        traverse(queue)\n",
    "    elif choice==4:\n",
    "        break\n",
    "    else:\n",
    "        print(\"Invalid choice..\")"
   ]
  },
  {
   "cell_type": "code",
   "execution_count": 87,
   "metadata": {
    "vscode": {
     "languageId": "python"
    }
   },
   "outputs": [
    {
     "name": "stdout",
     "output_type": "stream",
     "text": [
      "Total Alphabets:  34\n"
     ]
    }
   ],
   "source": [
    "#13 Write a python program to read a file named “article.txt”, count and print total alphabets in the file.\n",
    "file =open('./article.txt','r')\n",
    "data=file.read()\n",
    "file.close()\n",
    "count=0\n",
    "for i in data:\n",
    "    if i.isalpha():\n",
    "        count+=1\n",
    "print(\"Total Alphabets: \",count)"
   ]
  },
  {
   "cell_type": "code",
   "execution_count": 89,
   "metadata": {
    "vscode": {
     "languageId": "python"
    }
   },
   "outputs": [
    {
     "name": "stdout",
     "output_type": "stream",
     "text": [
      "Enter details for student 1 below:\n"
     ]
    }
   ],
   "source": [
    "#14 Write a program to get roll numbers, names and marks of the students of a class (get from user) and store these details in a file called \"Marks.det\".\n",
    "count = int(input(\"How many students are there in the class?\"))\n",
    "fileout = open (\"Marks.det\", \"W\")\n",
    "for i in range(count):\n",
    "    print(\"Enter details for student\", (i+1), \"below:\")\n",
    "    rollno = int(input(\"Rollno:\"))\n",
    "    name = input(\"Name :\")\n",
    "    marks = float(input(\"Marks:\"))\n",
    "    rec = str(rollno) + \",\" + name + \",\" + str(marks) +'\\n'\n",
    "    fileout.write(rec)\n",
    "fileout.close()"
   ]
  }
 ],
 "metadata": {
  "kernelspec": {
   "display_name": "Python 3 (ipykernel)",
   "language": "python",
   "name": "python3"
  },
  "orig_nbformat": 4,
  "vscode": {
   "interpreter": {
    "hash": "aee8b7b246df8f9039afb4144a1f6fd8d2ca17a180786b69acc140d282b71a49"
   }
  }
 },
 "nbformat": 4,
 "nbformat_minor": 2
}
