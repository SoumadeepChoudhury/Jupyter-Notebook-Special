{
 "cells": [
  {
   "cell_type": "markdown",
   "metadata": {},
   "source": [
    "# <B><I>BIG DATA ANALYSIS..."
   ]
  },
  {
   "cell_type": "code",
   "execution_count": 10,
   "metadata": {},
   "outputs": [],
   "source": [
    "import pandas as pd\n",
    "import matplotlib.pyplot as plt\n",
    "import numpy as np\n",
    "import requests\n",
    "import io"
   ]
  },
  {
   "cell_type": "code",
   "execution_count": 2,
   "metadata": {},
   "outputs": [],
   "source": [
    "url=\"https://raw.githubusercontent.com/manmay2/PYTHON-PROGRAMMING/main/PROGRAMS/Test%20(1).csv\""
   ]
  },
  {
   "cell_type": "code",
   "execution_count": 13,
   "metadata": {},
   "outputs": [
    {
     "data": {
      "text/html": [
       "<div>\n",
       "<style scoped>\n",
       "    .dataframe tbody tr th:only-of-type {\n",
       "        vertical-align: middle;\n",
       "    }\n",
       "\n",
       "    .dataframe tbody tr th {\n",
       "        vertical-align: top;\n",
       "    }\n",
       "\n",
       "    .dataframe thead th {\n",
       "        text-align: right;\n",
       "    }\n",
       "</style>\n",
       "<table border=\"1\" class=\"dataframe\">\n",
       "  <thead>\n",
       "    <tr style=\"text-align: right;\">\n",
       "      <th></th>\n",
       "      <th>Airport_Name</th>\n",
       "      <th>Flights_Available</th>\n",
       "      <th>Passengers</th>\n",
       "      <th>Going to</th>\n",
       "      <th>Cost of tickets</th>\n",
       "    </tr>\n",
       "  </thead>\n",
       "  <tbody>\n",
       "    <tr>\n",
       "      <th>0</th>\n",
       "      <td>FRANKFURT</td>\n",
       "      <td>8</td>\n",
       "      <td>1091</td>\n",
       "      <td>MUMBAI</td>\n",
       "      <td>37281</td>\n",
       "    </tr>\n",
       "    <tr>\n",
       "      <th>1</th>\n",
       "      <td>HALLEY</td>\n",
       "      <td>4</td>\n",
       "      <td>982</td>\n",
       "      <td>FRANKFURT</td>\n",
       "      <td>86273</td>\n",
       "    </tr>\n",
       "    <tr>\n",
       "      <th>2</th>\n",
       "      <td>NETHERLANDS</td>\n",
       "      <td>0</td>\n",
       "      <td>1367</td>\n",
       "      <td>DELHI</td>\n",
       "      <td>65137</td>\n",
       "    </tr>\n",
       "    <tr>\n",
       "      <th>3</th>\n",
       "      <td>KOTA</td>\n",
       "      <td>4</td>\n",
       "      <td>958</td>\n",
       "      <td>SILICON VALLEY</td>\n",
       "      <td>66346</td>\n",
       "    </tr>\n",
       "    <tr>\n",
       "      <th>4</th>\n",
       "      <td>NETHERLANDS</td>\n",
       "      <td>1</td>\n",
       "      <td>932</td>\n",
       "      <td>SILICON VALLEY</td>\n",
       "      <td>86749</td>\n",
       "    </tr>\n",
       "  </tbody>\n",
       "</table>\n",
       "</div>"
      ],
      "text/plain": [
       "  Airport_Name  Flights_Available  Passengers        Going to  Cost of tickets\n",
       "0    FRANKFURT                  8        1091          MUMBAI            37281\n",
       "1       HALLEY                  4         982       FRANKFURT            86273\n",
       "2  NETHERLANDS                  0        1367           DELHI            65137\n",
       "3         KOTA                  4         958  SILICON VALLEY            66346\n",
       "4  NETHERLANDS                  1         932  SILICON VALLEY            86749"
      ]
     },
     "execution_count": 13,
     "metadata": {},
     "output_type": "execute_result"
    }
   ],
   "source": [
    "data = requests.get(url).content\n",
    "data=pd.read_csv(io.StringIO(data.decode('utf-8')))\n",
    "data.head()"
   ]
  },
  {
   "cell_type": "markdown",
   "metadata": {},
   "source": [
    "### Max cost \n",
    "### Avg cost\n",
    "### airport having max flight\n",
    "### Avg passenger\n",
    "### Most visited place"
   ]
  }
 ],
 "metadata": {
  "kernelspec": {
   "display_name": "Python 3 (ipykernel)",
   "language": "python",
   "name": "python3"
  },
  "language_info": {
   "codemirror_mode": {
    "name": "ipython",
    "version": 3
   },
   "file_extension": ".py",
   "mimetype": "text/x-python",
   "name": "python",
   "nbconvert_exporter": "python",
   "pygments_lexer": "ipython3",
   "version": "3.11.0"
  },
  "orig_nbformat": 4
 },
 "nbformat": 4,
 "nbformat_minor": 2
}
