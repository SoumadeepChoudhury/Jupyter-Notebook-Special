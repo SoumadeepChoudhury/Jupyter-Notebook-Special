{
 "cells": [
  {
   "attachments": {},
   "cell_type": "markdown",
   "metadata": {},
   "source": [
    "# Practise Of Python"
   ]
  },
  {
   "cell_type": "code",
   "execution_count": 1,
   "metadata": {},
   "outputs": [
    {
     "name": "stdout",
     "output_type": "stream",
     "text": [
      "3.0\n",
      "2.0\n"
     ]
    }
   ],
   "source": [
    "#comlpex number test\n",
    "a=3+2j\n",
    "print(a.real)\n",
    "print(a.imag)"
   ]
  },
  {
   "cell_type": "code",
   "execution_count": 2,
   "metadata": {},
   "outputs": [
    {
     "name": "stdout",
     "output_type": "stream",
     "text": [
      "Negative+abs 1.0\n",
      "Positive+abs 1.0\n",
      "Negative+fabs 1.0\n",
      "Positive+fabs 1.0\n"
     ]
    }
   ],
   "source": [
    "#checking fabs and abs\n",
    "import math\n",
    "print(\"Negative+abs\",abs(-1.0))\n",
    "print(\"Positive+abs\",abs(1.0))\n",
    "print(\"Negative+fabs\",math.fabs(-1.0))\n",
    "print(\"Positive+fabs\",math.fabs(1.0))"
   ]
  },
  {
   "cell_type": "code",
   "execution_count": 4,
   "metadata": {},
   "outputs": [
    {
     "name": "stdout",
     "output_type": "stream",
     "text": [
      "1\n",
      "-2\n",
      "-2\n",
      "1\n",
      "-2\n"
     ]
    }
   ],
   "source": [
    "#checking floor\n",
    "print(math.floor(1.03))\n",
    "print(math.floor(-1.03))\n",
    "print(math.floor(-1.50))\n",
    "print(math.floor(1.75))\n",
    "print(math.floor(-1.55))"
   ]
  },
  {
   "cell_type": "code",
   "execution_count": 8,
   "metadata": {},
   "outputs": [
    {
     "name": "stdout",
     "output_type": "stream",
     "text": [
      "6\n",
      "1\n"
     ]
    }
   ],
   "source": [
    "#getting lcm and gcd\n",
    "print(math.lcm(2,3))\n",
    "print(math.gcd(2,3))"
   ]
  },
  {
   "cell_type": "code",
   "execution_count": 13,
   "metadata": {},
   "outputs": [
    {
     "ename": "NameError",
     "evalue": "name 'mx' is not defined",
     "output_type": "error",
     "traceback": [
      "\u001b[0;31m---------------------------------------------------------------------------\u001b[0m",
      "\u001b[0;31mNameError\u001b[0m                                 Traceback (most recent call last)",
      "Cell \u001b[0;32mIn[13], line 2\u001b[0m\n\u001b[1;32m      1\u001b[0m m,x,b\u001b[39m=\u001b[39m\u001b[39m1\u001b[39m,\u001b[39m2\u001b[39m,\u001b[39m3\u001b[39m\n\u001b[0;32m----> 2\u001b[0m y\u001b[39m=\u001b[39mmx\u001b[39m+\u001b[39mb\n\u001b[1;32m      3\u001b[0m \u001b[39mprint\u001b[39m(y)\n",
      "\u001b[0;31mNameError\u001b[0m: name 'mx' is not defined"
     ]
    }
   ],
   "source": [
    "#finding name of error\n",
    "m,x,b=1,2,3\n",
    "y=mx+b\n",
    "print(y)"
   ]
  },
  {
   "cell_type": "code",
   "execution_count": 12,
   "metadata": {},
   "outputs": [
    {
     "ename": "SyntaxError",
     "evalue": "invalid decimal literal (24649108.py, line 1)",
     "output_type": "error",
     "traceback": [
      "\u001b[0;36m  Cell \u001b[0;32mIn[12], line 1\u001b[0;36m\u001b[0m\n\u001b[0;31m    1storder=2\u001b[0m\n\u001b[0m    ^\u001b[0m\n\u001b[0;31mSyntaxError\u001b[0m\u001b[0;31m:\u001b[0m invalid decimal literal\n"
     ]
    }
   ],
   "source": [
    "# finding name of error\n",
    "1storder=2"
   ]
  },
  {
   "cell_type": "code",
   "execution_count": 14,
   "metadata": {},
   "outputs": [
    {
     "name": "stdout",
     "output_type": "stream",
     "text": [
      "85.0\n"
     ]
    }
   ],
   "source": [
    "#converting string into floating point\n",
    "x=float('85')\n",
    "print(x)"
   ]
  },
  {
   "cell_type": "code",
   "execution_count": 15,
   "metadata": {},
   "outputs": [
    {
     "ename": "ValueError",
     "evalue": "invalid literal for int() with base 10: 'Hell8'",
     "output_type": "error",
     "traceback": [
      "\u001b[0;31m---------------------------------------------------------------------------\u001b[0m",
      "\u001b[0;31mValueError\u001b[0m                                Traceback (most recent call last)",
      "Cell \u001b[0;32mIn[15], line 2\u001b[0m\n\u001b[1;32m      1\u001b[0m \u001b[39m#finding error name\u001b[39;00m\n\u001b[0;32m----> 2\u001b[0m error\u001b[39m=\u001b[39m\u001b[39mint\u001b[39;49m(\u001b[39m'\u001b[39;49m\u001b[39mHell8\u001b[39;49m\u001b[39m'\u001b[39;49m)\n\u001b[1;32m      3\u001b[0m \u001b[39mprint\u001b[39m(error)\n",
      "\u001b[0;31mValueError\u001b[0m: invalid literal for int() with base 10: 'Hell8'"
     ]
    }
   ],
   "source": [
    "#finding error name\n",
    "error=int('Hell8')\n",
    "print(error)"
   ]
  },
  {
   "cell_type": "code",
   "execution_count": 16,
   "metadata": {},
   "outputs": [
    {
     "name": "stdout",
     "output_type": "stream",
     "text": [
      "doesn't\n",
      "doesn't\n",
      "\"Yes,\" he said.\n",
      "\"Yes,\" he said.\n"
     ]
    }
   ],
   "source": [
    "# finding output\n",
    "print('doesn\\'t')\n",
    "print(\"doesn\\'t\")\n",
    "print('\"Yes,\" he said.')\n",
    "print(\"\\\"Yes,\\\" he said.\")"
   ]
  },
  {
   "cell_type": "code",
   "execution_count": 19,
   "metadata": {},
   "outputs": [
    {
     "name": "stdout",
     "output_type": "stream",
     "text": [
      "These things I have s\u001b[1mP\u001b[0moken unto you,\n",
      "         that in me y\u001b[1mE\u001b[0m might have peace.\n",
      "   In the world ye sh\u001b[1mA\u001b[0mll have tribulation:\n",
      "      but be of good \u001b[1mC\u001b[0mheer,\n",
      "       I have overcom\u001b[1mE\u001b[0m the world\n"
     ]
    }
   ],
   "source": [
    "print(\"These things I have s\\033[1mP\\033[0moken unto you,\")\n",
    "print(\"         that in me y\\033[1mE\\033[0m might have peace.\")\n",
    "print(\"   In the world ye sh\\033[1mA\\033[0mll have tribulation:\")\n",
    "print(\"      but be of good \\033[1mC\\033[0mheer,\")\n",
    "print(\"       I have overcom\\033[1mE\\033[0m the world\")"
   ]
  },
  {
   "cell_type": "code",
   "execution_count": 21,
   "metadata": {},
   "outputs": [
    {
     "name": "stdout",
     "output_type": "stream",
     "text": [
      "Now it's a <class 'int'>\n"
     ]
    }
   ],
   "source": [
    "#finding output\n",
    "a=9000\n",
    "print(\"Now it's a\",type(a))"
   ]
  },
  {
   "cell_type": "code",
   "execution_count": 24,
   "metadata": {},
   "outputs": [
    {
     "name": "stdout",
     "output_type": "stream",
     "text": [
      "4.0\n"
     ]
    }
   ],
   "source": [
    "#finding output\n",
    "x=4\n",
    "y=8\n",
    "z=x/y*y\n",
    "print(z)"
   ]
  },
  {
   "cell_type": "code",
   "execution_count": 34,
   "metadata": {},
   "outputs": [
    {
     "name": "stdout",
     "output_type": "stream",
     "text": [
      "2.0\n",
      "2\n",
      "3.0\n"
     ]
    }
   ],
   "source": [
    "#checking statements\n",
    "print(5.0//2)\n",
    "print((int)(5.0//2))\n",
    "print(math.fabs(-5.0//2))"
   ]
  },
  {
   "cell_type": "code",
   "execution_count": 41,
   "metadata": {},
   "outputs": [
    {
     "name": "stdout",
     "output_type": "stream",
     "text": [
      "<class 'list'>\n",
      "<class 'tuple'>\n",
      "<class 'float'>\n",
      "<class 'list'>\n",
      "<class 'float'>\n",
      "<class 'tuple'>\n"
     ]
    }
   ],
   "source": [
    "#checking for error\n",
    "print(type([1,2]))\n",
    "#print(type(1,2))   # TypeError\n",
    "print(type((1,2)))\n",
    "print(type(1/2))\n",
    "print(type([1/2]))\n",
    "print(type((1/2)))\n",
    "print(type((1/2,)))"
   ]
  },
  {
   "cell_type": "code",
   "execution_count": 42,
   "metadata": {},
   "outputs": [
    {
     "name": "stdout",
     "output_type": "stream",
     "text": [
      "False\n"
     ]
    }
   ],
   "source": [
    "#checking output\n",
    "print('ant'<'amoeba')"
   ]
  },
  {
   "cell_type": "code",
   "execution_count": 47,
   "metadata": {},
   "outputs": [
    {
     "name": "stdout",
     "output_type": "stream",
     "text": [
      "1056 feet=0 miles, 352 yards\n"
     ]
    }
   ],
   "source": [
    "# WAP to calculate the distance of 1056 feet in terms of yards and miles. Given fixed values are 1 mile=1760yards and 1 yard=3feet.\n",
    "feet=1056\n",
    "yard=int(feet/3)\n",
    "mile=yard//1760\n",
    "if mile>0:\n",
    "    yard=yard-(mile*1760)\n",
    "print(f\"{feet} feet={mile} miles, {yard} yards\")"
   ]
  },
  {
   "cell_type": "code",
   "execution_count": 50,
   "metadata": {},
   "outputs": [
    {
     "name": "stdout",
     "output_type": "stream",
     "text": [
      "There are 31536000 sec in a year\n"
     ]
    }
   ],
   "source": [
    "# WAP to print number of seconds in a year.\n",
    "seconds=365*24*60*60\n",
    "print(f\"There are {seconds} sec in a year\")"
   ]
  }
 ],
 "metadata": {
  "kernelspec": {
   "display_name": "Python 3 (ipykernel)",
   "language": "python",
   "name": "python3"
  },
  "language_info": {
   "codemirror_mode": {
    "name": "ipython",
    "version": 3
   },
   "file_extension": ".py",
   "mimetype": "text/x-python",
   "name": "python",
   "nbconvert_exporter": "python",
   "pygments_lexer": "ipython3",
   "version": "3.11.2"
  },
  "orig_nbformat": 4
 },
 "nbformat": 4,
 "nbformat_minor": 2
}
