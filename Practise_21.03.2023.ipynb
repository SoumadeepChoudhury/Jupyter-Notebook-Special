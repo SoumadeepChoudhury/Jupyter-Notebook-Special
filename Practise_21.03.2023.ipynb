{
 "cells": [
  {
   "attachments": {},
   "cell_type": "markdown",
   "metadata": {},
   "source": [
    "# Practise Of Python"
   ]
  },
  {
   "cell_type": "code",
   "execution_count": 1,
   "metadata": {},
   "outputs": [
    {
     "name": "stdout",
     "output_type": "stream",
     "text": [
      "3.0\n",
      "2.0\n"
     ]
    }
   ],
   "source": [
    "#comlpex number test\n",
    "a=3+2j\n",
    "print(a.real)\n",
    "print(a.imag)"
   ]
  },
  {
   "cell_type": "code",
   "execution_count": 2,
   "metadata": {},
   "outputs": [
    {
     "name": "stdout",
     "output_type": "stream",
     "text": [
      "Negative+abs 1.0\n",
      "Positive+abs 1.0\n",
      "Negative+fabs 1.0\n",
      "Positive+fabs 1.0\n"
     ]
    }
   ],
   "source": [
    "#checking fabs and abs\n",
    "import math\n",
    "print(\"Negative+abs\",abs(-1.0))\n",
    "print(\"Positive+abs\",abs(1.0))\n",
    "print(\"Negative+fabs\",math.fabs(-1.0))\n",
    "print(\"Positive+fabs\",math.fabs(1.0))"
   ]
  },
  {
   "cell_type": "code",
   "execution_count": 4,
   "metadata": {},
   "outputs": [
    {
     "name": "stdout",
     "output_type": "stream",
     "text": [
      "1\n",
      "-2\n",
      "-2\n",
      "1\n",
      "-2\n"
     ]
    }
   ],
   "source": [
    "#checking floor\n",
    "print(math.floor(1.03))\n",
    "print(math.floor(-1.03))\n",
    "print(math.floor(-1.50))\n",
    "print(math.floor(1.75))\n",
    "print(math.floor(-1.55))"
   ]
  },
  {
   "cell_type": "code",
   "execution_count": 8,
   "metadata": {},
   "outputs": [
    {
     "name": "stdout",
     "output_type": "stream",
     "text": [
      "6\n",
      "1\n"
     ]
    }
   ],
   "source": [
    "#getting lcm and gcd\n",
    "print(math.lcm(2,3))\n",
    "print(math.gcd(2,3))"
   ]
  },
  {
   "cell_type": "code",
   "execution_count": 13,
   "metadata": {},
   "outputs": [
    {
     "ename": "NameError",
     "evalue": "name 'mx' is not defined",
     "output_type": "error",
     "traceback": [
      "\u001b[0;31m---------------------------------------------------------------------------\u001b[0m",
      "\u001b[0;31mNameError\u001b[0m                                 Traceback (most recent call last)",
      "Cell \u001b[0;32mIn[13], line 2\u001b[0m\n\u001b[1;32m      1\u001b[0m m,x,b\u001b[39m=\u001b[39m\u001b[39m1\u001b[39m,\u001b[39m2\u001b[39m,\u001b[39m3\u001b[39m\n\u001b[0;32m----> 2\u001b[0m y\u001b[39m=\u001b[39mmx\u001b[39m+\u001b[39mb\n\u001b[1;32m      3\u001b[0m \u001b[39mprint\u001b[39m(y)\n",
      "\u001b[0;31mNameError\u001b[0m: name 'mx' is not defined"
     ]
    }
   ],
   "source": [
    "#finding name of error\n",
    "m,x,b=1,2,3\n",
    "y=mx+b\n",
    "print(y)"
   ]
  },
  {
   "cell_type": "code",
   "execution_count": 12,
   "metadata": {},
   "outputs": [
    {
     "ename": "SyntaxError",
     "evalue": "invalid decimal literal (24649108.py, line 1)",
     "output_type": "error",
     "traceback": [
      "\u001b[0;36m  Cell \u001b[0;32mIn[12], line 1\u001b[0;36m\u001b[0m\n\u001b[0;31m    1storder=2\u001b[0m\n\u001b[0m    ^\u001b[0m\n\u001b[0;31mSyntaxError\u001b[0m\u001b[0;31m:\u001b[0m invalid decimal literal\n"
     ]
    }
   ],
   "source": [
    "# finding name of error\n",
    "1storder=2"
   ]
  },
  {
   "cell_type": "code",
   "execution_count": 14,
   "metadata": {},
   "outputs": [
    {
     "name": "stdout",
     "output_type": "stream",
     "text": [
      "85.0\n"
     ]
    }
   ],
   "source": [
    "#converting string into floating point\n",
    "x=float('85')\n",
    "print(x)"
   ]
  },
  {
   "cell_type": "code",
   "execution_count": 15,
   "metadata": {},
   "outputs": [
    {
     "ename": "ValueError",
     "evalue": "invalid literal for int() with base 10: 'Hell8'",
     "output_type": "error",
     "traceback": [
      "\u001b[0;31m---------------------------------------------------------------------------\u001b[0m",
      "\u001b[0;31mValueError\u001b[0m                                Traceback (most recent call last)",
      "Cell \u001b[0;32mIn[15], line 2\u001b[0m\n\u001b[1;32m      1\u001b[0m \u001b[39m#finding error name\u001b[39;00m\n\u001b[0;32m----> 2\u001b[0m error\u001b[39m=\u001b[39m\u001b[39mint\u001b[39;49m(\u001b[39m'\u001b[39;49m\u001b[39mHell8\u001b[39;49m\u001b[39m'\u001b[39;49m)\n\u001b[1;32m      3\u001b[0m \u001b[39mprint\u001b[39m(error)\n",
      "\u001b[0;31mValueError\u001b[0m: invalid literal for int() with base 10: 'Hell8'"
     ]
    }
   ],
   "source": [
    "#finding error name\n",
    "error=int('Hell8')\n",
    "print(error)"
   ]
  },
  {
   "cell_type": "code",
   "execution_count": 16,
   "metadata": {},
   "outputs": [
    {
     "name": "stdout",
     "output_type": "stream",
     "text": [
      "doesn't\n",
      "doesn't\n",
      "\"Yes,\" he said.\n",
      "\"Yes,\" he said.\n"
     ]
    }
   ],
   "source": [
    "# finding output\n",
    "print('doesn\\'t')\n",
    "print(\"doesn\\'t\")\n",
    "print('\"Yes,\" he said.')\n",
    "print(\"\\\"Yes,\\\" he said.\")"
   ]
  },
  {
   "cell_type": "code",
   "execution_count": 19,
   "metadata": {},
   "outputs": [
    {
     "name": "stdout",
     "output_type": "stream",
     "text": [
      "These things I have s\u001b[1mP\u001b[0moken unto you,\n",
      "         that in me y\u001b[1mE\u001b[0m might have peace.\n",
      "   In the world ye sh\u001b[1mA\u001b[0mll have tribulation:\n",
      "      but be of good \u001b[1mC\u001b[0mheer,\n",
      "       I have overcom\u001b[1mE\u001b[0m the world\n"
     ]
    }
   ],
   "source": [
    "print(\"These things I have s\\033[1mP\\033[0moken unto you,\")\n",
    "print(\"         that in me y\\033[1mE\\033[0m might have peace.\")\n",
    "print(\"   In the world ye sh\\033[1mA\\033[0mll have tribulation:\")\n",
    "print(\"      but be of good \\033[1mC\\033[0mheer,\")\n",
    "print(\"       I have overcom\\033[1mE\\033[0m the world\")"
   ]
  },
  {
   "cell_type": "code",
   "execution_count": 21,
   "metadata": {},
   "outputs": [
    {
     "name": "stdout",
     "output_type": "stream",
     "text": [
      "Now it's a <class 'int'>\n"
     ]
    }
   ],
   "source": [
    "#finding output\n",
    "a=9000\n",
    "print(\"Now it's a\",type(a))"
   ]
  },
  {
   "cell_type": "code",
   "execution_count": 24,
   "metadata": {},
   "outputs": [
    {
     "name": "stdout",
     "output_type": "stream",
     "text": [
      "4.0\n"
     ]
    }
   ],
   "source": [
    "#finding output\n",
    "x=4\n",
    "y=8\n",
    "z=x/y*y\n",
    "print(z)"
   ]
  },
  {
   "cell_type": "code",
   "execution_count": 34,
   "metadata": {},
   "outputs": [
    {
     "name": "stdout",
     "output_type": "stream",
     "text": [
      "2.0\n",
      "2\n",
      "3.0\n"
     ]
    }
   ],
   "source": [
    "#checking statements\n",
    "print(5.0//2)\n",
    "print((int)(5.0//2))\n",
    "print(math.fabs(-5.0//2))"
   ]
  },
  {
   "cell_type": "code",
   "execution_count": 41,
   "metadata": {},
   "outputs": [
    {
     "name": "stdout",
     "output_type": "stream",
     "text": [
      "<class 'list'>\n",
      "<class 'tuple'>\n",
      "<class 'float'>\n",
      "<class 'list'>\n",
      "<class 'float'>\n",
      "<class 'tuple'>\n"
     ]
    }
   ],
   "source": [
    "#checking for error\n",
    "print(type([1,2]))\n",
    "#print(type(1,2))   # TypeError\n",
    "print(type((1,2)))\n",
    "print(type(1/2))\n",
    "print(type([1/2]))\n",
    "print(type((1/2)))\n",
    "print(type((1/2,)))"
   ]
  },
  {
   "cell_type": "code",
   "execution_count": 42,
   "metadata": {},
   "outputs": [
    {
     "name": "stdout",
     "output_type": "stream",
     "text": [
      "False\n"
     ]
    }
   ],
   "source": [
    "#checking output\n",
    "print('ant'<'amoeba')"
   ]
  },
  {
   "cell_type": "code",
   "execution_count": 47,
   "metadata": {},
   "outputs": [
    {
     "name": "stdout",
     "output_type": "stream",
     "text": [
      "1056 feet=0 miles, 352 yards\n"
     ]
    }
   ],
   "source": [
    "# WAP to calculate the distance of 1056 feet in terms of yards and miles. Given fixed values are 1 mile=1760yards and 1 yard=3feet.\n",
    "feet=1056\n",
    "yard=int(feet/3)\n",
    "mile=yard//1760\n",
    "if mile>0:\n",
    "    yard=yard-(mile*1760)\n",
    "print(f\"{feet} feet={mile} miles, {yard} yards\")"
   ]
  },
  {
   "cell_type": "code",
   "execution_count": 50,
   "metadata": {},
   "outputs": [
    {
     "name": "stdout",
     "output_type": "stream",
     "text": [
      "There are 31536000 sec in a year\n"
     ]
    }
   ],
   "source": [
    "# WAP to print number of seconds in a year.\n",
    "seconds=365*24*60*60\n",
    "print(f\"There are {seconds} sec in a year\")"
   ]
  },
  {
   "cell_type": "code",
   "execution_count": 5,
   "metadata": {},
   "outputs": [
    {
     "data": {
      "text/plain": [
       "19"
      ]
     },
     "execution_count": 5,
     "metadata": {},
     "output_type": "execute_result"
    }
   ],
   "source": [
    "#checking the indexs of find method\n",
    "sub='ringa'\n",
    "string='it goes as - ringa ringa roses'\n",
    "string.find(sub,15,string.rfind('a')+1)     #end index is considered 1 less than the given. same as for loop."
   ]
  },
  {
   "cell_type": "code",
   "execution_count": 17,
   "metadata": {},
   "outputs": [
    {
     "name": "stdout",
     "output_type": "stream",
     "text": [
      "[1, 2, 3] [1, 2, 3]\n",
      "[1, 2, 3] [5, 2, 3]\n"
     ]
    }
   ],
   "source": [
    "#checking if after copy one modification is changing the copied on also.\n",
    "l=[1,2,3]\n",
    "l1=l.copy()\n",
    "print(l,l1)\n",
    "l1[0]=5\n",
    "print(l,l1)"
   ]
  },
  {
   "cell_type": "code",
   "execution_count": 29,
   "metadata": {},
   "outputs": [
    {
     "name": "stdout",
     "output_type": "stream",
     "text": [
      "\n",
      "*\n",
      "**\n",
      "***\n",
      "****\n",
      "*****\n"
     ]
    }
   ],
   "source": [
    "#Check Output\n",
    "i=0\n",
    "while i<6:\n",
    "    j=0\n",
    "    while j<i:\n",
    "        print(\"*\",end='')\n",
    "        j=j+1\n",
    "    i=i+1\n",
    "    print()"
   ]
  },
  {
   "cell_type": "code",
   "execution_count": 30,
   "metadata": {},
   "outputs": [
    {
     "name": "stdout",
     "output_type": "stream",
     "text": [
      "Oh No\n"
     ]
    }
   ],
   "source": [
    "#Check output\n",
    "x=7\n",
    "y=8\n",
    "if x<7 or x<=10 and y>8:\n",
    "    print(\"IT IS!\")\n",
    "else:\n",
    "    print(\"Oh No\")"
   ]
  },
  {
   "cell_type": "code",
   "execution_count": 33,
   "metadata": {},
   "outputs": [
    {
     "name": "stdout",
     "output_type": "stream",
     "text": [
      "19.0 8.5 3.25 0.625 "
     ]
    }
   ],
   "source": [
    "#check output\n",
    "score=40\n",
    "while score>1:\n",
    "    score=score/2-1\n",
    "    print(score,end=' ')"
   ]
  },
  {
   "cell_type": "code",
   "execution_count": 37,
   "metadata": {},
   "outputs": [
    {
     "name": "stdout",
     "output_type": "stream",
     "text": [
      "Fahrenheit|Calsius\n",
      "------------------\n",
      "0\t|\t-17.77777777777778\n",
      "1\t|\t-17.22222222222222\n",
      "2\t|\t-16.666666666666668\n",
      "3\t|\t-16.11111111111111\n",
      "4\t|\t-15.555555555555557\n",
      "5\t|\t-15.0\n",
      "6\t|\t-14.444444444444445\n",
      "7\t|\t-13.88888888888889\n",
      "8\t|\t-13.333333333333334\n",
      "9\t|\t-12.777777777777779\n",
      "10\t|\t-12.222222222222223\n",
      "11\t|\t-11.666666666666668\n",
      "12\t|\t-11.11111111111111\n",
      "13\t|\t-10.555555555555555\n",
      "14\t|\t-10.0\n",
      "15\t|\t-9.444444444444445\n",
      "16\t|\t-8.88888888888889\n",
      "17\t|\t-8.333333333333334\n",
      "18\t|\t-7.777777777777779\n",
      "19\t|\t-7.222222222222222\n",
      "20\t|\t-6.666666666666667\n",
      "21\t|\t-6.111111111111112\n",
      "22\t|\t-5.555555555555555\n",
      "23\t|\t-5.0\n",
      "24\t|\t-4.444444444444445\n",
      "25\t|\t-3.8888888888888893\n",
      "26\t|\t-3.3333333333333335\n",
      "27\t|\t-2.7777777777777777\n",
      "28\t|\t-2.2222222222222223\n",
      "29\t|\t-1.6666666666666667\n",
      "30\t|\t-1.1111111111111112\n",
      "31\t|\t-0.5555555555555556\n",
      "32\t|\t0.0\n",
      "33\t|\t0.5555555555555556\n",
      "34\t|\t1.1111111111111112\n",
      "35\t|\t1.6666666666666667\n",
      "36\t|\t2.2222222222222223\n",
      "37\t|\t2.7777777777777777\n",
      "38\t|\t3.3333333333333335\n",
      "39\t|\t3.8888888888888893\n",
      "40\t|\t4.444444444444445\n",
      "41\t|\t5.0\n",
      "42\t|\t5.555555555555555\n",
      "43\t|\t6.111111111111112\n",
      "44\t|\t6.666666666666667\n",
      "45\t|\t7.222222222222222\n",
      "46\t|\t7.777777777777779\n",
      "47\t|\t8.333333333333334\n",
      "48\t|\t8.88888888888889\n",
      "49\t|\t9.444444444444445\n",
      "50\t|\t10.0\n",
      "51\t|\t10.555555555555555\n",
      "52\t|\t11.11111111111111\n",
      "53\t|\t11.666666666666668\n",
      "54\t|\t12.222222222222223\n",
      "55\t|\t12.777777777777779\n",
      "56\t|\t13.333333333333334\n",
      "57\t|\t13.88888888888889\n",
      "58\t|\t14.444444444444445\n",
      "59\t|\t15.0\n",
      "60\t|\t15.555555555555557\n",
      "61\t|\t16.11111111111111\n",
      "62\t|\t16.666666666666668\n",
      "63\t|\t17.22222222222222\n",
      "64\t|\t17.77777777777778\n",
      "65\t|\t18.333333333333336\n",
      "66\t|\t18.88888888888889\n",
      "67\t|\t19.444444444444446\n",
      "68\t|\t20.0\n",
      "69\t|\t20.555555555555557\n",
      "70\t|\t21.11111111111111\n",
      "71\t|\t21.666666666666668\n",
      "72\t|\t22.22222222222222\n",
      "73\t|\t22.77777777777778\n",
      "74\t|\t23.333333333333336\n",
      "75\t|\t23.88888888888889\n",
      "76\t|\t24.444444444444446\n",
      "77\t|\t25.0\n",
      "78\t|\t25.555555555555557\n",
      "79\t|\t26.11111111111111\n",
      "80\t|\t26.666666666666668\n",
      "81\t|\t27.222222222222225\n",
      "82\t|\t27.77777777777778\n",
      "83\t|\t28.333333333333336\n",
      "84\t|\t28.88888888888889\n",
      "85\t|\t29.444444444444446\n",
      "86\t|\t30.0\n",
      "87\t|\t30.555555555555557\n",
      "88\t|\t31.111111111111114\n",
      "89\t|\t31.666666666666668\n",
      "90\t|\t32.22222222222222\n",
      "91\t|\t32.77777777777778\n",
      "92\t|\t33.333333333333336\n",
      "93\t|\t33.88888888888889\n",
      "94\t|\t34.44444444444444\n",
      "95\t|\t35.0\n",
      "96\t|\t35.55555555555556\n",
      "97\t|\t36.111111111111114\n",
      "98\t|\t36.66666666666667\n",
      "99\t|\t37.22222222222222\n",
      "100\t|\t37.77777777777778\n"
     ]
    }
   ],
   "source": [
    "#WAP to print a table of fahrenheit and celsius from 0 to 100 fahrenheit.\n",
    "print(\"Fahrenheit|Calsius\")\n",
    "print(\"------------------\")\n",
    "fah=0\n",
    "while fah<=100:\n",
    "    cel=(5/9)*(fah-32)\n",
    "    print(f\"{fah}\\t|\\t{cel}\")\n",
    "    fah+=1"
   ]
  },
  {
   "cell_type": "code",
   "execution_count": 44,
   "metadata": {},
   "outputs": [
    {
     "name": "stdout",
     "output_type": "stream",
     "text": [
      "* * * * * * * * \n",
      "                    *\n",
      "                 *\n",
      "              *\n",
      "           *\n",
      "        *\n",
      "     *\n",
      "* * * * * * * * \n"
     ]
    }
   ],
   "source": [
    "#WAP to print Z with *\n",
    "i=8\n",
    "print(\"* \"*i)\n",
    "for line in range(i-2,0,-1):\n",
    "    print(f\"  {'   '*line}*\")\n",
    "print(\"* \"*i)"
   ]
  },
  {
   "cell_type": "code",
   "execution_count": 47,
   "metadata": {},
   "outputs": [
    {
     "name": "stdout",
     "output_type": "stream",
     "text": [
      "* * * * * * * * * * \n",
      "* * * * * * * * * \n",
      "* * * * * * * * \n",
      "* * * * * * * \n",
      "* * * * * * \n",
      "* * * * * \n",
      "* * * * \n",
      "* * * \n",
      "* * \n",
      "* \n"
     ]
    }
   ],
   "source": [
    "# WAP to print right angled triangle inverted.\n",
    "i=10\n",
    "for line in range(i,0,-1):\n",
    "    print(\"* \"*line)"
   ]
  },
  {
   "cell_type": "code",
   "execution_count": 50,
   "metadata": {},
   "outputs": [
    {
     "name": "stdout",
     "output_type": "stream",
     "text": [
      "        ****\n",
      "        ****\n",
      "        ****\n",
      "        ****\n",
      "****    \n",
      "****    \n",
      "****    \n",
      "****    \n"
     ]
    }
   ],
   "source": [
    "# WAP to print a pattern of alternate box.\n",
    "i=8\n",
    "for line in range(i):\n",
    "    if line<4:\n",
    "        print(f\"{'  '*4}{'*'*4}\")\n",
    "        continue\n",
    "    print(f\"{'*'*4}{' '*4}\")"
   ]
  },
  {
   "cell_type": "code",
   "execution_count": 52,
   "metadata": {},
   "outputs": [
    {
     "name": "stdout",
     "output_type": "stream",
     "text": [
      "* * * * * * * * * * \n",
      "* * * *       * * * * \n",
      "* * *             * * * \n",
      "* *                   * * \n",
      "*                         * \n",
      "*                         * \n",
      "* *                   * * \n",
      "* * *             * * * \n",
      "* * * *       * * * * \n",
      "* * * * * * * * * * \n"
     ]
    }
   ],
   "source": [
    "# WAP to print the pattern of a box having a hollow box at 45deg.\n",
    "i=5\n",
    "for line in range(i,0,-1):\n",
    "    print(f\"{'* '*line}{'   '*(i*2-line*2)}{'* '*line}\")\n",
    "for line in range(1,i+1):\n",
    "    print(f\"{'* '*line}{'   '*(i*2-line*2)}{'* '*line}\")\n"
   ]
  },
  {
   "cell_type": "code",
   "execution_count": 56,
   "metadata": {},
   "outputs": [
    {
     "name": "stdout",
     "output_type": "stream",
     "text": [
      "a u\n",
      "b ueberry\n",
      "c blu\n",
      "d blueberry\n",
      "e \n",
      "f blueberr\n",
      "g \n"
     ]
    }
   ],
   "source": [
    "a=\"blueberry\"\n",
    "print(\"a\",a[2:3])\n",
    "print(\"b\",a[2:])\n",
    "print(\"c\",a[:3])\n",
    "print(\"d\",a[:])\n",
    "print(\"e\",a[-1:-3])\n",
    "print(\"f\",a[:-1])\n",
    "print(\"g\",a[1:1])"
   ]
  },
  {
   "cell_type": "code",
   "execution_count": 58,
   "metadata": {},
   "outputs": [
    {
     "name": "stdout",
     "output_type": "stream",
     "text": [
      "nctrn"
     ]
    }
   ],
   "source": [
    "#WAP to print back input words without vowels.\n",
    "word=input(\"Enter a word: \")\n",
    "for i in word:\n",
    "    if i in ('a','e','i','o','u'):\n",
    "        continue\n",
    "    print(i,end='')"
   ]
  },
  {
   "cell_type": "code",
   "execution_count": 59,
   "metadata": {},
   "outputs": [
    {
     "name": "stdout",
     "output_type": "stream",
     "text": [
      "bl(u)(e)b(e)rry"
     ]
    }
   ],
   "source": [
    "#WAP to print back input words with vowels surrounded by parenthesis.\n",
    "word=input(\"Enter a word: \")\n",
    "for i in word:\n",
    "    if i in ('a','e','i','o','u'):\n",
    "        print(f\"({i})\",end='')\n",
    "        continue\n",
    "    print(i,end='')"
   ]
  },
  {
   "cell_type": "code",
   "execution_count": 62,
   "metadata": {},
   "outputs": [
    {
     "ename": "TypeError",
     "evalue": "can only concatenate tuple (not \"int\") to tuple",
     "output_type": "error",
     "traceback": [
      "\u001b[0;31m---------------------------------------------------------------------------\u001b[0m",
      "\u001b[0;31mTypeError\u001b[0m                                 Traceback (most recent call last)",
      "Cell \u001b[0;32mIn[62], line 3\u001b[0m\n\u001b[1;32m      1\u001b[0m t1\u001b[39m=\u001b[39m(\u001b[39m1\u001b[39m,\u001b[39m2\u001b[39m,\u001b[39m3\u001b[39m)\n\u001b[1;32m      2\u001b[0m t2\u001b[39m=\u001b[39m(\u001b[39m4\u001b[39m)\n\u001b[0;32m----> 3\u001b[0m \u001b[39mprint\u001b[39m(t1\u001b[39m+\u001b[39;49mt2)\n",
      "\u001b[0;31mTypeError\u001b[0m: can only concatenate tuple (not \"int\") to tuple"
     ]
    }
   ],
   "source": [
    "#checking for error\n",
    "t1=(1,2,3)\n",
    "t2=(4)\n",
    "print(t1+t2)"
   ]
  },
  {
   "cell_type": "code",
   "execution_count": 70,
   "metadata": {},
   "outputs": [
    {
     "name": "stdout",
     "output_type": "stream",
     "text": [
      "[0, 4, 1]\n"
     ]
    }
   ],
   "source": [
    "#checking for error\n",
    "l=[0,3,4,1]\n",
    "l.remove(3)\n",
    "print(l)"
   ]
  },
  {
   "cell_type": "code",
   "execution_count": 71,
   "metadata": {},
   "outputs": [
    {
     "data": {
      "text/plain": [
       "[0, 4, 1]"
      ]
     },
     "execution_count": 71,
     "metadata": {},
     "output_type": "execute_result"
    }
   ],
   "source": [
    "#checking for output\n",
    "l=l+[4]\n",
    "del l[-1]\n",
    "l"
   ]
  },
  {
   "cell_type": "code",
   "execution_count": 72,
   "metadata": {},
   "outputs": [
    {
     "ename": "TypeError",
     "evalue": "'tuple' object doesn't support item deletion",
     "output_type": "error",
     "traceback": [
      "\u001b[0;31m---------------------------------------------------------------------------\u001b[0m",
      "\u001b[0;31mTypeError\u001b[0m                                 Traceback (most recent call last)",
      "Cell \u001b[0;32mIn[72], line 2\u001b[0m\n\u001b[1;32m      1\u001b[0m t\u001b[39m=\u001b[39m(\u001b[39m1\u001b[39m,\u001b[39m2\u001b[39m,\u001b[39m3\u001b[39m)\n\u001b[0;32m----> 2\u001b[0m \u001b[39mdel\u001b[39;00m t[\u001b[39m0\u001b[39;49m]\n\u001b[1;32m      3\u001b[0m t\n",
      "\u001b[0;31mTypeError\u001b[0m: 'tuple' object doesn't support item deletion"
     ]
    }
   ],
   "source": [
    "#checking for error\n",
    "t=(1,2,3)\n",
    "del t[0]\n",
    "t"
   ]
  },
  {
   "cell_type": "code",
   "execution_count": 76,
   "metadata": {},
   "outputs": [
    {
     "ename": "TypeError",
     "evalue": "'str' object doesn't support item deletion",
     "output_type": "error",
     "traceback": [
      "\u001b[0;31m---------------------------------------------------------------------------\u001b[0m",
      "\u001b[0;31mTypeError\u001b[0m                                 Traceback (most recent call last)",
      "Cell \u001b[0;32mIn[76], line 3\u001b[0m\n\u001b[1;32m      1\u001b[0m s\u001b[39m=\u001b[39m\u001b[39m\"\u001b[39m\u001b[39mHe\u001b[39m\u001b[39m\"\u001b[39m\n\u001b[1;32m      2\u001b[0m \u001b[39m# s.append(4)\u001b[39;00m\n\u001b[0;32m----> 3\u001b[0m \u001b[39mdel\u001b[39;00m s[\u001b[39m0\u001b[39;49m]\n\u001b[1;32m      4\u001b[0m s\n",
      "\u001b[0;31mTypeError\u001b[0m: 'str' object doesn't support item deletion"
     ]
    }
   ],
   "source": [
    "#checking for error\n",
    "s=\"He\"\n",
    "# s.append(4)\n",
    "del s[0]\n",
    "s"
   ]
  },
  {
   "cell_type": "code",
   "execution_count": 79,
   "metadata": {},
   "outputs": [
    {
     "data": {
      "text/plain": [
       "[5, 0]"
      ]
     },
     "execution_count": 79,
     "metadata": {},
     "output_type": "execute_result"
    }
   ],
   "source": [
    "#checking for output\n",
    "a=[1,2,3]\n",
    "a[2]=0\n",
    "a[a[2]]=5\n",
    "a[1:2]=[]\n",
    "a"
   ]
  },
  {
   "cell_type": "code",
   "execution_count": 81,
   "metadata": {},
   "outputs": [
    {
     "name": "stdout",
     "output_type": "stream",
     "text": [
      "[[[1, 2, 3, 17, 5], [6, 7, 8]], 200]\n",
      "[[[1, 2, 3, 17, 5], [6, 7, 8]], 200]\n"
     ]
    }
   ],
   "source": [
    "#checking for error and output\n",
    "a=[[[1,2,3,4,5],[6,7,8]],9]\n",
    "a[-1]=200\n",
    "b=a[:]\n",
    "b[0][0][3]=17\n",
    "print(a)\n",
    "print(b)"
   ]
  },
  {
   "cell_type": "code",
   "execution_count": 87,
   "metadata": {},
   "outputs": [
    {
     "name": "stdout",
     "output_type": "stream",
     "text": [
      "(1, 2, 3, 4)\n"
     ]
    }
   ],
   "source": [
    "#Concatanate tuples\n",
    "t1=eval(input(\"Enter tuple 1: \"))\n",
    "t2=eval(input(\"Enter tuple 2: \"))\n",
    "try:\n",
    "    print(t1+t2)\n",
    "except:\n",
    "    print(\"Tuples are not entered properly. For single element in tuple give comma at end\")"
   ]
  },
  {
   "cell_type": "code",
   "execution_count": 92,
   "metadata": {},
   "outputs": [
    {
     "data": {
      "text/plain": [
       "[1, 3, 4]"
      ]
     },
     "execution_count": 92,
     "metadata": {},
     "output_type": "execute_result"
    }
   ],
   "source": [
    "#sorting a tuple.\n",
    "a=(1,4,3)\n",
    "sorted(a)"
   ]
  },
  {
   "cell_type": "code",
   "execution_count": 95,
   "metadata": {},
   "outputs": [
    {
     "name": "stdout",
     "output_type": "stream",
     "text": [
      "[[3, 2, 1], [6, 5, 4], [9, 8, 7]]\n"
     ]
    }
   ],
   "source": [
    "#WAP to reverse a 2D list.\n",
    "array=eval(input(\"Enter 2D array of integers: \"))\n",
    "for i in range(len(array)):\n",
    "    array[i]=array[i][::-1]\n",
    "print(array)"
   ]
  },
  {
   "cell_type": "code",
   "execution_count": 111,
   "metadata": {},
   "outputs": [
    {
     "name": "stdout",
     "output_type": "stream",
     "text": [
      "43\n"
     ]
    }
   ],
   "source": [
    "total=0\n",
    "dic={\"cat\":12,\"dog\":6,\"elephant\":23,\"bear\":20}\n",
    "for akey in dic:\n",
    "    if len(akey) > 3:\n",
    "        total=total+dic[akey]\n",
    "print(total)"
   ]
  },
  {
   "cell_type": "code",
   "execution_count": 112,
   "metadata": {},
   "outputs": [
    {
     "name": "stdout",
     "output_type": "stream",
     "text": [
      "Phone Number of Ram is 80020-00004\n"
     ]
    }
   ],
   "source": [
    "# WAP to create a dictionary and add key 'name' with value 'Jivin' and key 'phone' with '85000-00003'. Add two more entries from user. Then ask user to enter name and display its corresponding number.\n",
    "dic={\"name\":['Jivin'],\"phone\":['85000-00003']}\n",
    "while True:\n",
    "    name=input(\"Enter name: \")\n",
    "    if name==\"exit\":\n",
    "        break\n",
    "    phone=input(\"Enter phone: \")\n",
    "    dic[\"name\"].append(name)\n",
    "    dic[\"phone\"].append(phone)\n",
    "name=input(\"Enter name for which phone number will be displayed: \")\n",
    "print(f\"Phone Number of {name} is {dic['phone'][dic['name'].index(name)]}\")"
   ]
  },
  {
   "cell_type": "code",
   "execution_count": 116,
   "metadata": {},
   "outputs": [
    {
     "name": "stdout",
     "output_type": "stream",
     "text": [
      "{'Dam': 70, 'Shyam': 72, 'Ram': 89, 'Kam': 90, 'Tom': 100}\n"
     ]
    }
   ],
   "source": [
    "# Given dictionary with 5 students names and their marks. WAP that prints the dictionary contents in the ascending order of marks.\n",
    "dic={'Ram':89,'Kam':90,'Shyam':72,'Dam':70,'Tom':100}\n",
    "new_Dic={}\n",
    "marks=sorted(list(dic.values()))\n",
    "for mark in marks:\n",
    "    for name in dic:\n",
    "        if mark==dic[name]:\n",
    "            new_Dic[name]=mark\n",
    "            break\n",
    "print(new_Dic)"
   ]
  },
  {
   "cell_type": "code",
   "execution_count": 123,
   "metadata": {},
   "outputs": [
    {
     "name": "stdout",
     "output_type": "stream",
     "text": [
      "Original List [15, 6, 13, 22, 3, 52, 2]\n",
      "2 3 6 13 15 22 52 "
     ]
    }
   ],
   "source": [
    "# Bubble Sort\n",
    "arr=[15,6,13,22,3,52,2]\n",
    "n=len(arr)\n",
    "print(\"Original List\",arr)\n",
    "for i in range(n-1):\n",
    "    for j in range(n-1):\n",
    "        if arr[j]>arr[j+1]:\n",
    "            temp=arr[j]\n",
    "            arr[j]=arr[j+1]\n",
    "            arr[j+1]=temp\n",
    "for i in range(n):\n",
    "    print(arr[i],end=' ')"
   ]
  },
  {
   "cell_type": "code",
   "execution_count": 125,
   "metadata": {},
   "outputs": [
    {
     "name": "stdout",
     "output_type": "stream",
     "text": [
      "2 3 6 13 15 22 52 "
     ]
    }
   ],
   "source": [
    "# Insertion Sort\n",
    "arr=[15,6,13,22,3,52,2]\n",
    "n=len(arr)\n",
    "for i in range(1,n):\n",
    "    key=arr[i]\n",
    "    j=i-1\n",
    "    while j>=0 and key<arr[j]:\n",
    "        arr[j+1]=arr[j]\n",
    "        j=j-1\n",
    "    arr[j+1]=key\n",
    "for i in range(n):\n",
    "    print(arr[i],end=' ')"
   ]
  },
  {
   "cell_type": "code",
   "execution_count": 154,
   "metadata": {},
   "outputs": [
    {
     "name": "stdout",
     "output_type": "stream",
     "text": [
      "With values 3 7 10\n",
      "-7\n",
      "With values 25 5 24\n",
      "1249\n",
      "With values 100 5 50\n",
      "20025\n"
     ]
    }
   ],
   "source": [
    "#checking output\n",
    "def func(a,b=5,c=10):\n",
    "    poly=2*a**2-5*b+c\n",
    "    print(\"With values\",a,b,c)\n",
    "    print(poly)\n",
    "func(3,7)\n",
    "func(25,c=24)\n",
    "func(c=50,a=100)\n"
   ]
  },
  {
   "cell_type": "code",
   "execution_count": 160,
   "metadata": {},
   "outputs": [
    {
     "name": "stdout",
     "output_type": "stream",
     "text": [
      "True\n",
      "False\n",
      "False\n",
      "True\n"
     ]
    }
   ],
   "source": [
    "# WAF to check vowel. Return True if vowel.\n",
    "def checkVowel(letter:chr)->bool:\n",
    "    if letter in ('a','e','i','o','u'):\n",
    "        return True\n",
    "    return False\n",
    "print(checkVowel('u'))\n",
    "print(checkVowel('k'))\n",
    "print(checkVowel('m'))\n",
    "print(checkVowel('i'))"
   ]
  },
  {
   "cell_type": "code",
   "execution_count": 188,
   "metadata": {},
   "outputs": [
    {
     "name": "stdout",
     "output_type": "stream",
     "text": [
      "The sum of square of first 2 digits and last two digits number : 1233\n"
     ]
    }
   ],
   "source": [
    "# Void function which calculates the sum of squares of first 2 digit and last 2 digit of a number. Eg: 1233 -> 12^2 + 33^2 \n",
    "def sumOfSquare(num:int)->None:\n",
    "    if not len(str(num))==4 or not str(num).isdigit():\n",
    "        print(\"Entered value is not four digit.\")\n",
    "        return\n",
    "    first2dig=num//100\n",
    "    last2dig=num%100\n",
    "    sum=(first2dig**2)+(last2dig**2)\n",
    "    print(\"The sum of square of first 2 digits and last two digits number :\",sum)\n",
    "    return\n",
    "sumOfSquare(\n",
    "    1233\n",
    ")"
   ]
  },
  {
   "cell_type": "code",
   "execution_count": 191,
   "metadata": {},
   "outputs": [
    {
     "name": "stdout",
     "output_type": "stream",
     "text": [
      "True\n",
      "True\n",
      "False\n"
     ]
    }
   ],
   "source": [
    "# Check for prime or not.\n",
    "def primeCheck(num:int)->bool:\n",
    "    i=2\n",
    "    while i<=num//2:\n",
    "        if num%i==0:\n",
    "            return False\n",
    "        i+=1\n",
    "    return True\n",
    "print(primeCheck(2))    #True\n",
    "print(primeCheck(11))    #True\n",
    "print(primeCheck(10))    #False"
   ]
  },
  {
   "cell_type": "code",
   "execution_count": 197,
   "metadata": {},
   "outputs": [
    {
     "name": "stdout",
     "output_type": "stream",
     "text": [
      "Before [1] 1\n",
      "Within [3] 3\n",
      "After [3] 1\n"
     ]
    }
   ],
   "source": [
    "# Checking output\n",
    "def myFunc(list1,var1):\n",
    "    list1[0]+=2\n",
    "    var1+=2\n",
    "    print(\"Within\",list1,var1)\n",
    "    return\n",
    "list1=[1]\n",
    "var1=1\n",
    "print(\"Before\",list1,var1)\n",
    "myFunc(list1,var1)\n",
    "print(\"After\",list1,var1)"
   ]
  },
  {
   "cell_type": "code",
   "execution_count": 202,
   "metadata": {},
   "outputs": [
    {
     "name": "stdout",
     "output_type": "stream",
     "text": [
      "Before [1] 1\n",
      "[2, 3, 4, 7] 3\n",
      "After [3] 1\n"
     ]
    }
   ],
   "source": [
    "# Checking output\n",
    "def myFunc(l,v):\n",
    "    l[0]+=2\n",
    "    v+=2\n",
    "    N=[2,3,4]\n",
    "    l=N\n",
    "    l.append(7)\n",
    "    print(l,v)\n",
    "    return\n",
    "list1=[1]\n",
    "var1=1\n",
    "print(\"Before\",list1,var1)\n",
    "myFunc(list1,var1)\n",
    "print(\"After\",list1,var1)"
   ]
  },
  {
   "cell_type": "code",
   "execution_count": 232,
   "metadata": {},
   "outputs": [
    {
     "name": "stdout",
     "output_type": "stream",
     "text": [
      "3 lines in the file\n",
      "1 empty lines\n",
      "11.666666666666666 average characters per line\n",
      "17.5 average characters per non-empty line\n"
     ]
    }
   ],
   "source": [
    "%reset -f\n",
    "a=[1,2,3]\n",
    "with open(\"Python Projects/junk/file.txt\",'r') as file:\n",
    "    text=file.read()\n",
    "    file.seek(0)\n",
    "    lines=file.readlines()\n",
    "total=len(lines)\n",
    "empty=0\n",
    "for line in lines:\n",
    "    if line==\"\\n\":\n",
    "        empty+=1\n",
    "avg_chr=len(text)/len(lines)\n",
    "avg_chr_nonempty=len(text)/(len(lines)-empty)\n",
    "print(f\"{total} lines in the file\")\n",
    "print(f\"{empty} empty lines\")\n",
    "print(f\"{avg_chr} average characters per line\")\n",
    "print(f\"{avg_chr_nonempty} average characters per non-empty line\")"
   ]
  },
  {
   "cell_type": "code",
   "execution_count": 9,
   "metadata": {},
   "outputs": [],
   "source": [
    "# WAP to create a file and store userid and password. Userid must be unique.\n",
    "%reset -f\n",
    "userid=input(\"Enter user id: \")\n",
    "import os\n",
    "if not os.path.exists(\"./Python Projects/junk/security.txt\"):\n",
    "    file=open(\"./Python Projects/junk/security.txt\",'w')\n",
    "    file.close()\n",
    "if userid!=\"\":\n",
    "    with open(\"./Python Projects/junk/security.txt\",'r+') as file:\n",
    "        data=file.readlines()\n",
    "        exist=False\n",
    "        for item in data:\n",
    "            if item.startswith(userid):\n",
    "                exist=True\n",
    "                break\n",
    "        if not exist:\n",
    "            pass_=input(\"Enter password: \")\n",
    "            if len(pass_)<8 or not ('$' in pass_ or '@' in pass_ or '%' in pass_):\n",
    "                print(\"Password must be eigth characters long and contain '@', '$', '%'\")\n",
    "            else:\n",
    "                file.writelines(f\"{userid},{pass_}\\n\")\n",
    "        else:\n",
    "            print(\"User id already exists.\")\n",
    "else:\n",
    "    print(\"User id cannot be blank.\")"
   ]
  },
  {
   "cell_type": "code",
   "execution_count": 14,
   "metadata": {},
   "outputs": [
    {
     "name": "stdout",
     "output_type": "stream",
     "text": [
      "RAM,RAM@12345\n",
      "SHAYM,SHYAM@12345\n",
      "\n"
     ]
    }
   ],
   "source": [
    "%reset -f\n",
    "# Read content from one file and display in upper case.\n",
    "file_name=input(\"Enter file name: \")\n",
    "file=open(file_name,'r')\n",
    "content=file.read()\n",
    "print(content.upper())"
   ]
  },
  {
   "cell_type": "code",
   "execution_count": 3,
   "metadata": {},
   "outputs": [
    {
     "name": "stdout",
     "output_type": "stream",
     "text": [
      "['Name', 'Phone']\n",
      "['ram', '234']\n",
      "['Shyam', '344']\n",
      "['Kam', '34']\n"
     ]
    }
   ],
   "source": [
    "\n",
    "import pickle\n",
    "with open(\"./Python Projects/junk/phonebook.det\",'ab+') as file:\n",
    "    # writes\n",
    "    pickle.dump([\"Name\",\"Phone\"],file)\n",
    "    # while True:\n",
    "    #     name=input(\"Enter name: \")\n",
    "    #     phone=input(\"Enter phone: \")\n",
    "    #     pickle.dump([name,phone],file)\n",
    "    #     if input(\"Do you wanna continue? [Y/N]\").upper() != 'Y':\n",
    "    #         break\n",
    "    data=[[\"ram\",\"234\"],[\"Shyam\",\"344\"],[\"Kam\",\"34\"]]\n",
    "    for item in data:\n",
    "        pickle.dump(item,file)\n",
    "    #reads\n",
    "    file.seek(0)\n",
    "    while True:\n",
    "        try:\n",
    "            print(pickle.load(file))\n",
    "        except:\n",
    "            break\n",
    "    "
   ]
  },
  {
   "cell_type": "code",
   "execution_count": 8,
   "metadata": {},
   "outputs": [],
   "source": [
    "# Updating a binary file\n",
    "with open(\"./Python Projects/junk/phonebook.det\",'rb+') as file:\n",
    "    import pickle\n",
    "    data=[]\n",
    "    file.seek(0)\n",
    "    while True:\n",
    "        try:\n",
    "            data.append(pickle.load(file))\n",
    "        except:\n",
    "            break\n",
    "    for index,item in enumerate(data):\n",
    "        if item[0]=='Shyam':\n",
    "            data[index][1]=input(\"Enter new phone: \")\n",
    "            break\n",
    "    file.seek(0)\n",
    "    for i in range(len(data)):\n",
    "        pickle.dump(data[i],file)"
   ]
  },
  {
   "cell_type": "code",
   "execution_count": 11,
   "metadata": {},
   "outputs": [],
   "source": [
    "# Data from one file to another except the one entered by user\n",
    "with open(\"./Python Projects/junk/phonebook.det\",'rb') as file_read:\n",
    "    with open(\"./Python Projects/junk/phonebooknew.det\",'wb') as file:\n",
    "        import pickle\n",
    "        file_read.seek(0)\n",
    "        itemno=(input(\"Enter item no : \"))\n",
    "        while True:\n",
    "            try:\n",
    "                data=pickle.load(file_read)\n",
    "                if (data[0])==itemno:\n",
    "                    continue\n",
    "                pickle.dump(data,file)\n",
    "            except:\n",
    "                break"
   ]
  }
 ],
 "metadata": {
  "kernelspec": {
   "display_name": "Python 3 (ipykernel)",
   "language": "python",
   "name": "python3"
  },
  "language_info": {
   "codemirror_mode": {
    "name": "ipython",
    "version": 3
   },
   "file_extension": ".py",
   "mimetype": "text/x-python",
   "name": "python",
   "nbconvert_exporter": "python",
   "pygments_lexer": "ipython3",
   "version": "3.11.2"
  },
  "orig_nbformat": 4
 },
 "nbformat": 4,
 "nbformat_minor": 2
}
