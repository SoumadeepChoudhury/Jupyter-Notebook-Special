{
 "cells": [
  {
   "cell_type": "markdown",
   "metadata": {},
   "source": [
    "# Dictionary\n",
    "## _Brief Overview_"
   ]
  },
  {
   "cell_type": "code",
   "execution_count": 2,
   "metadata": {},
   "outputs": [
    {
     "name": "stdout",
     "output_type": "stream",
     "text": [
      "{'name': 'User1', 'age': 25, 'salary': 250000}\n"
     ]
    }
   ],
   "source": [
    "dict={'name': \"User1\",'age':25,'salary':250000}\n",
    "print(dict)"
   ]
  }
 ],
 "metadata": {
  "interpreter": {
   "hash": "091be7ea64e881f66ec2c929ba3591007c74cbf0c48b4a53d1096f17bce6569b"
  },
  "kernelspec": {
   "display_name": "Python 3.10.0 64-bit ('.env': venv)",
   "language": "python",
   "name": "python3"
  },
  "language_info": {
   "codemirror_mode": {
    "name": "ipython",
    "version": 3
   },
   "file_extension": ".py",
   "mimetype": "text/x-python",
   "name": "python",
   "nbconvert_exporter": "python",
   "pygments_lexer": "ipython3",
   "version": "3.10.0"
  },
  "orig_nbformat": 4
 },
 "nbformat": 4,
 "nbformat_minor": 2
}
