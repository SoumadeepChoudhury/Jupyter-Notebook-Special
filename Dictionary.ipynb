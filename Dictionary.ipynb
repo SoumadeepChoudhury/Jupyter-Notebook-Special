{
 "cells": [
  {
   "cell_type": "markdown",
   "metadata": {},
   "source": [
    "# DICTIONARY\n",
    "## _Brief Overview_"
   ]
  },
  {
   "cell_type": "markdown",
   "metadata": {},
   "source": [
    "- **Dictionaries** are simply another type of _collection_ in Python, but with a twist. Dictionary in Python have a **\"key\"** and a  **\"value of that key\"**. That is, Python dictionaries are a collection of some **key-value pairs.**\n",
    "\n",
    "- Dictionaries are mutable, unordered collections with elements in the form of a key:value pairs that associate keys to values.\n",
    "\n",
    "- Dictionaries are also called a**ssociative arrays** or **mappings** or **hashes**.\n",
    "\n",
    "## NOTE\n",
    "_The Keys of a dictionary must be of immutable types._"
   ]
  },
  {
   "cell_type": "markdown",
   "metadata": {},
   "source": [
    "## _Syntax_\n",
    "```<dictionary-name> = {<key>:<value>, <key>:<value>...}```"
   ]
  },
  {
   "cell_type": "markdown",
   "metadata": {},
   "source": [
    "## _Example_\n",
    "```teachers = {\"Dimple\":\"Computer Science\", \"Karen\":\"Socialist\", \"Harpreet\":\"Mathematics\"} ```"
   ]
  },
  {
   "cell_type": "code",
   "execution_count": 6,
   "metadata": {},
   "outputs": [
    {
     "name": "stdout",
     "output_type": "stream",
     "text": [
      "Created dictionary\n",
      "{1: 78, 2: 89, 3: 77, 4: 49}\n"
     ]
    }
   ],
   "source": [
    "# # Q1) WAP to read roll numbers and marks of four students and create a dictionary From having roll numbers as keys.\n",
    "rno=[]\n",
    "mrk=[]\n",
    "for a in range(4):\n",
    "    r,m=eval(input(\"Enter Roll No., Marks: \"))\n",
    "    rno.append(r)\n",
    "    mrk.append(m)\n",
    "d={ rno[0]:mrk[0],rno[1]:mrk[1],rno[2]:mrk[2],rno[3]:mrk[3]}\n",
    "print(\"Created dictionary\")\n",
    "print(d)"
   ]
  },
  {
   "cell_type": "markdown",
   "metadata": {},
   "source": [
    "## _Accessing Elements of a Dictionary_\n",
    "- While accessing elements from a dictionary, you need the **key**.<br><br>\n",
    "**SYNTAX**\n",
    "```<dictionary-name> [<key>] ```\n",
    "\n",
    "**EXAMPLE**\n",
    "```teachers[\"Karen\"]```\n",
    "\n",
    "- A dictionary operation that takes a key and finds the corresponding value, is called **Lookup**.\n",
    "\n",
    "- Attempting to access a key that doesn't exist, causes an error.\n",
    "\n",
    "<br><br>\n",
    "## _Traversing a Dictionary_\n",
    "**SYNTAX**\n",
    "```\n",
    "for <items> in <Dictionary>:\n",
    "    process each item here\n",
    "```"
   ]
  },
  {
   "cell_type": "code",
   "execution_count": 7,
   "metadata": {},
   "outputs": [
    {
     "name": "stdout",
     "output_type": "stream",
     "text": [
      "1 : 78\n",
      "2 : 89\n",
      "3 : 77\n",
      "4 : 49\n"
     ]
    }
   ],
   "source": [
    "# # To Traverse the before dictionary in Q1....\n",
    "for key in d:\n",
    "    print(key,\":\",d[key])"
   ]
  },
  {
   "cell_type": "markdown",
   "metadata": {},
   "source": [
    "## _Accessing ```Keys ``` or ```Values``` Simultaneously_\n",
    "To see all the _keys_ in a dictionary in one go, you may write ```<dictionary>.keys()``` And to see all _values_ in one go, you may write ```<dictionary>.values()``` as shown below."
   ]
  },
  {
   "cell_type": "code",
   "execution_count": 8,
   "metadata": {},
   "outputs": [
    {
     "data": {
      "text/plain": [
       "dict_keys([1, 2, 3, 4])"
      ]
     },
     "execution_count": 8,
     "metadata": {},
     "output_type": "execute_result"
    }
   ],
   "source": [
    "d.keys()"
   ]
  },
  {
   "cell_type": "code",
   "execution_count": 9,
   "metadata": {},
   "outputs": [
    {
     "data": {
      "text/plain": [
       "dict_values([78, 89, 77, 49])"
      ]
     },
     "execution_count": 9,
     "metadata": {},
     "output_type": "execute_result"
    }
   ],
   "source": [
    "d.values()"
   ]
  },
  {
   "cell_type": "markdown",
   "metadata": {},
   "source": [
    "## _Characteristics of a Dictionary_\n",
    "1. <u>Unordered Set</u> : A Dictionary is an unordered set of **key: value** pairs.\n",
    "2. <u>Not a Sequence</u> : Unlike a *string*, *list* and *tuple*, a **dictionary** is not a sequence because it is unordered set of elements. \n",
    "3. <u>Indexed by Keys, Not Numbers</u> : Dictionaries are indexed by keys.\n",
    "4. <u>Keys must be Unique</u> : Each of the *keys* within a dictionary must be unique.\n",
    "5. <u>Dictionaries are Mutable</u>: Write *lists*, *dictionaries* are also **mutable**.<br>\n",
    "    ```<dictionary>[<key>]=<value>```"
   ]
  },
  {
   "cell_type": "code",
   "execution_count": 10,
   "metadata": {},
   "outputs": [
    {
     "name": "stdout",
     "output_type": "stream",
     "text": [
      "Created dictionary\n",
      "{1: 45, 2: 78}\n"
     ]
    }
   ],
   "source": [
    "# # Q2) Write a program to create a dictionary M which stores the marks of the students of class with roll numbers as the keys and marks as the values. Get the number of students as input.\n",
    "M={}\n",
    "n=int(input(\"How many students?: \"))\n",
    "for a in range(n):\n",
    "    r, m = eval(input(\"Enter Roll No., Marks: \"))\n",
    "    M[r]=m\n",
    "print(\"Created dictionary\")\n",
    "print(M)\n"
   ]
  }
 ],
 "metadata": {
  "interpreter": {
   "hash": "091be7ea64e881f66ec2c929ba3591007c74cbf0c48b4a53d1096f17bce6569b"
  },
  "kernelspec": {
   "display_name": "Python 3.10.0 64-bit ('.env': venv)",
   "language": "python",
   "name": "python3"
  },
  "language_info": {
   "codemirror_mode": {
    "name": "ipython",
    "version": 3
   },
   "file_extension": ".py",
   "mimetype": "text/x-python",
   "name": "python",
   "nbconvert_exporter": "python",
   "pygments_lexer": "ipython3",
   "version": "3.10.0"
  },
  "orig_nbformat": 4
 },
 "nbformat": 4,
 "nbformat_minor": 2
}
