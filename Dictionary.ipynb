{
 "cells": [
  {
   "cell_type": "markdown",
   "metadata": {},
   "source": [
    "# DICTIONARY\n",
    "## _Brief Overview_"
   ]
  },
  {
   "cell_type": "markdown",
   "metadata": {},
   "source": [
    "- **Dictionaries** are simply another type of _collection_ in Python, but with a twist. Dictionary in Python have a **\"key\"** and a  **\"value of that key\"**. That is, Python dictionaries are a collection of some **key-value pairs.**\n",
    "\n",
    "- Dictionaries are mutable, unordered collections with elements in the form of a key:value pairs that associate keys to values.\n",
    "\n",
    "- Dictionaries are also called a**ssociative arrays** or **mappings** or **hashes**.\n",
    "\n",
    "## NOTE\n",
    "_The Keys of a dictionary must be of immutable types._"
   ]
  },
  {
   "cell_type": "markdown",
   "metadata": {},
   "source": [
    "## _Syntax_\n",
    "```<dictionary-name> = {<key>:<value>, <key>:<value>...}```"
   ]
  },
  {
   "cell_type": "markdown",
   "metadata": {},
   "source": [
    "## _Example_\n",
    "```teachers = {\"Dimple\":\"Computer Science\", \"Karen\":\"Socialist\", \"Harpreet\":\"Mathematics\"} ```"
   ]
  },
  {
   "cell_type": "code",
   "execution_count": 6,
   "metadata": {},
   "outputs": [
    {
     "name": "stdout",
     "output_type": "stream",
     "text": [
      "Created dictionary\n",
      "{1: 78, 2: 89, 3: 77, 4: 49}\n"
     ]
    }
   ],
   "source": [
    "# # Q1) WAP to read roll numbers and marks of four students and create a dictionary From having roll numbers as keys.\n",
    "rno=[]\n",
    "mrk=[]\n",
    "for a in range(4):\n",
    "    r,m=eval(input(\"Enter Roll No., Marks: \"))\n",
    "    rno.append(r)\n",
    "    mrk.append(m)\n",
    "d={ rno[0]:mrk[0],rno[1]:mrk[1],rno[2]:mrk[2],rno[3]:mrk[3]}\n",
    "print(\"Created dictionary\")\n",
    "print(d)"
   ]
  },
  {
   "cell_type": "markdown",
   "metadata": {},
   "source": [
    "## _Accessing Elements of a Dictionary_\n",
    "- While accessing elements from a dictionary, you need the **key**.<br><br>\n",
    "**SYNTAX**\n",
    "```<dictionary-name> [<key>] ```\n",
    "\n",
    "**EXAMPLE**\n",
    "```teachers[\"Karen\"]```\n",
    "\n",
    "- A dictionary operation that takes a key and finds the corresponding value, is called **Lookup**.\n",
    "\n",
    "- Attempting to access a key that doesn't exist, causes an error.\n",
    "\n",
    "<br><br>\n",
    "## _Traversing a Dictionary_\n",
    "**SYNTAX**\n",
    "```\n",
    "for <items> in <Dictionary>:\n",
    "    process each item here\n",
    "```"
   ]
  },
  {
   "cell_type": "code",
   "execution_count": 7,
   "metadata": {},
   "outputs": [
    {
     "name": "stdout",
     "output_type": "stream",
     "text": [
      "1 : 78\n",
      "2 : 89\n",
      "3 : 77\n",
      "4 : 49\n"
     ]
    }
   ],
   "source": [
    "# # To Traverse the before dictionary in Q1....\n",
    "for key in d:\n",
    "    print(key,\":\",d[key])"
   ]
  },
  {
   "cell_type": "markdown",
   "metadata": {},
   "source": [
    "## _Accessing ```Keys ``` or ```Values``` Simultaneously_\n",
    "To see all the _keys_ in a dictionary in one go, you may write ```<dictionary>.keys()``` And to see all _values_ in one go, you may write ```<dictionary>.values()``` as shown below."
   ]
  },
  {
   "cell_type": "code",
   "execution_count": 8,
   "metadata": {},
   "outputs": [
    {
     "data": {
      "text/plain": [
       "dict_keys([1, 2, 3, 4])"
      ]
     },
     "execution_count": 8,
     "metadata": {},
     "output_type": "execute_result"
    }
   ],
   "source": [
    "d.keys()"
   ]
  },
  {
   "cell_type": "code",
   "execution_count": 9,
   "metadata": {},
   "outputs": [
    {
     "data": {
      "text/plain": [
       "dict_values([78, 89, 77, 49])"
      ]
     },
     "execution_count": 9,
     "metadata": {},
     "output_type": "execute_result"
    }
   ],
   "source": [
    "d.values()"
   ]
  },
  {
   "cell_type": "markdown",
   "metadata": {},
   "source": [
    "## _Characteristics of a Dictionary_\n",
    "1. **Unordered Set** : A Dictionary is an unordered set of **key: value** pairs.\n",
    "2. **Not a Sequence** : Unlike a *string*, *list* and *tuple*, a **dictionary** is not a sequence because it is unordered set of elements. \n",
    "3. **Indexed by Keys, Not Numbers** : Dictionaries are indexed by keys.\n",
    "4. **Keys must be Unique** : Each of the *keys* within a dictionary must be unique.\n",
    "5. **Dictionaries are Mutable**: Like *lists*, *dictionaries* are also **mutable**.<br>\n",
    "    ```<dictionary>[<key>]=<value>```"
   ]
  },
  {
   "cell_type": "code",
   "execution_count": 10,
   "metadata": {},
   "outputs": [
    {
     "name": "stdout",
     "output_type": "stream",
     "text": [
      "Created dictionary\n",
      "{1: 45, 2: 78}\n"
     ]
    }
   ],
   "source": [
    "# # Q2) Write a program to create a dictionary M which stores the marks of the students of class with roll numbers as the keys and marks as the values. Get the number of students as input.\n",
    "M={}\n",
    "n=int(input(\"How many students?: \"))\n",
    "for a in range(n):\n",
    "    r, m = eval(input(\"Enter Roll No., Marks: \"))\n",
    "    M[r]=m\n",
    "print(\"Created dictionary\")\n",
    "print(M)\n"
   ]
  },
  {
   "cell_type": "markdown",
   "metadata": {},
   "source": [
    "## _Multiple Ways of Creating Dictionaries_\n",
    "**1. Initializing a Dictionary :**\n",
    "In this method all the ```key: value``` pairs of a dictionary are written collectively, separated by commas and enclosed in curly braces.\n",
    "<br>\n",
    "```Employees = {'name':'John','salary':10000,'age':24}```\n"
   ]
  },
  {
   "cell_type": "markdown",
   "metadata": {},
   "source": [
    "**2. Adding ```key:value``` pairs to an empty dictionary. :**\n",
    "- ```Employees = {}```\n",
    "- ```Employees = dict()```<br>\n",
    "    Then the next Step...\n",
    "    - ```<dictionary>[<key>]  = <value>```"
   ]
  },
  {
   "cell_type": "markdown",
   "metadata": {},
   "source": [
    "## _The __Zip__ Function_\n",
    "The _Zip function_ clubs first value from the first set with the first value of the second set, second value from the first set with the second value of the second set, and so on.<br>"
   ]
  },
  {
   "cell_type": "code",
   "execution_count": 2,
   "metadata": {},
   "outputs": [
    {
     "data": {
      "text/plain": [
       "{'name': 'John', 'salary': 10000, 'age': 24}"
      ]
     },
     "execution_count": 2,
     "metadata": {},
     "output_type": "execute_result"
    }
   ],
   "source": [
    "Employee=dict(zip(('name','salary','age'),('John',10000,24)))\n",
    "Employee"
   ]
  },
  {
   "cell_type": "markdown",
   "metadata": {},
   "source": [
    "## _Adding Elements to Dictionary_\n",
    "You can add new elements(_key:value_ pair) to a dictionary using assignment as per following syntax. **BUT the key being added must not exist in the dictionary and must be unique.**\n",
    "```<dictionary>[<key>]=<value>```\n",
    "\n",
    "<br><br>\n",
    "Consider the following example: "
   ]
  },
  {
   "cell_type": "code",
   "execution_count": 3,
   "metadata": {},
   "outputs": [
    {
     "data": {
      "text/plain": [
       "{'name': 'John', 'salary': 10000, 'age': 24, 'dept': 'Sales'}"
      ]
     },
     "execution_count": 3,
     "metadata": {},
     "output_type": "execute_result"
    }
   ],
   "source": [
    "Employee = {'name':'John','salary':10000,'age':24}\n",
    "Employee['dept']='Sales'\n",
    "Employee"
   ]
  },
  {
   "cell_type": "markdown",
   "metadata": {},
   "source": [
    "## _Nesting Dictionaries_\n",
    "You can even add dictionaries as _Values_ inside a dictionary. Storing a dictionary inside dictionary is called _nesting of dictionaries_. <br>\n",
    "See the Example below..........."
   ]
  },
  {
   "cell_type": "code",
   "execution_count": 4,
   "metadata": {},
   "outputs": [
    {
     "name": "stdout",
     "output_type": "stream",
     "text": [
      "Employee John :\n",
      " Age:  25\n",
      "Salary:  20000\n",
      "Employee Diya :\n",
      " Age:  35\n",
      "Salary:  50000\n"
     ]
    }
   ],
   "source": [
    "Employees={'John':{'age':25,'salary':20000},'Diya':{'age':35,'salary':50000}}\n",
    "for key in Employees:\n",
    "    print(\"Employee\",key,\":\")\n",
    "    print(' Age: ',str(Employees[key]['age']))\n",
    "    print('Salary: ',str(Employees[key]['salary']))"
   ]
  },
  {
   "cell_type": "markdown",
   "metadata": {},
   "source": [
    "## _Updating/Modifying Existing Elements in a Dictionary_\n",
    "Updating an element is similar to what we did just now. That is, you can change value of an existing key using assignment as per following syntax:\n",
    "```<dictionary>[<key>]=<value>```\n",
    "\n",
    "Consider the following example:"
   ]
  },
  {
   "cell_type": "code",
   "execution_count": 1,
   "metadata": {},
   "outputs": [
    {
     "data": {
      "text/plain": [
       "{'name': 'John', 'salary': 20000, 'age': 24}"
      ]
     },
     "execution_count": 1,
     "metadata": {},
     "output_type": "execute_result"
    }
   ],
   "source": [
    "Employee = {'name':'John','salary':10000,'age':24}\n",
    "Employee['salary']=20000\n",
    "Employee"
   ]
  },
  {
   "cell_type": "markdown",
   "metadata": {},
   "source": [
    "**NOTE :**\n",
    "In dictionaries, the updation and addition of elements are similar in syntax. But for addition, the key must not exist in the dictionary and for updation, the key must exist in the dictionary."
   ]
  },
  {
   "cell_type": "markdown",
   "metadata": {},
   "source": [
    "## _Deleting Elements from a dictionary_\n",
    "For deleting elements from a dictionary you can use either del statement or ```pop()``` or ```popitem()``` functions.<br>\n",
    "```del <dictionary>[<key>]```\n",
    "Consider the following example:"
   ]
  },
  {
   "cell_type": "code",
   "execution_count": 2,
   "metadata": {},
   "outputs": [
    {
     "data": {
      "text/plain": [
       "{'name': 'John', 'salary': 20000}"
      ]
     },
     "execution_count": 2,
     "metadata": {},
     "output_type": "execute_result"
    }
   ],
   "source": [
    "del Employee['age']\n",
    "Employee"
   ]
  },
  {
   "cell_type": "markdown",
   "metadata": {},
   "source": [
    "## _Checking for existence of a key_\n",
    "Usual membership operators **in** and **not in** work with dictionaries as well. But they can check for existence of keys only.<br>\n",
    "**SYNTAX** <br>\n",
    "- ```<key> in <dictionary>```<br>\n",
    "- ```<key> not in <dictionary>```<br><br><br>\n",
    "Consider the following examples:<br>"
   ]
  },
  {
   "cell_type": "code",
   "execution_count": 3,
   "metadata": {},
   "outputs": [
    {
     "data": {
      "text/plain": [
       "True"
      ]
     },
     "execution_count": 3,
     "metadata": {},
     "output_type": "execute_result"
    }
   ],
   "source": [
    "empl = {'salary':10000,'age':24,'name':'John'}\n",
    "'age' in empl"
   ]
  },
  {
   "cell_type": "code",
   "execution_count": 4,
   "metadata": {},
   "outputs": [
    {
     "data": {
      "text/plain": [
       "True"
      ]
     },
     "execution_count": 4,
     "metadata": {},
     "output_type": "execute_result"
    }
   ],
   "source": [
    "'John' not in empl"
   ]
  },
  {
   "cell_type": "markdown",
   "metadata": {},
   "source": [
    "**NOTE :**\n",
    "Please remember that the operators **in** and **not in** do not apply on values of a dictionary, if you use them with dictionary name directly."
   ]
  },
  {
   "cell_type": "code",
   "execution_count": 7,
   "metadata": {},
   "outputs": [
    {
     "name": "stdout",
     "output_type": "stream",
     "text": [
      "Created Dictionary\n",
      "{101: 55, 102: 89.5, 103: 30.5, 104: 70, 105: 92}\n",
      "Roll No.  103 deleted from dictionary.\n",
      "Final Dictionary\n",
      "{101: 55, 102: 89.5, 104: 70, 105: 92}\n"
     ]
    }
   ],
   "source": [
    "# # Consider already created dictionary M that stores roll numbers and marks. Write a program to input a roll number and delete it from the dictionary. Display error message if the roll number does not exist in the dictionary.\n",
    "\n",
    "M = {101: 55, 102: 89.5, 103: 30.5, 104: 70, 105: 92}\n",
    "print(\"Created Dictionary\")\n",
    "print(M)\n",
    "rno = int(input(\"Roll No. to be deleted ? :\"))\n",
    "\n",
    "if rno in M:\n",
    "    del M[rno]\n",
    "    print(\"Roll No. \",rno, \"deleted from dictionary.\")\n",
    "else:\n",
    "    print(\"Roll no. \",rno,\"does not exist in the dictionary\")\n",
    "print(\"Final Dictionary\")\n",
    "print(M)"
   ]
  },
  {
   "cell_type": "markdown",
   "metadata": {},
   "source": [
    "## _Pretty Printing a Dictionary_\n",
    "To prettify printing a dictionary, you need to import json module by giving statement ```import json```. And then you can use the function **dumps()** of  json module as for the following syntax inside print().<br>\n",
    "\n",
    "```json.dumps(<dictionary name>,indent = <n>)```<br>\n",
    "\n",
    "Consider the following example:"
   ]
  },
  {
   "cell_type": "code",
   "execution_count": 8,
   "metadata": {},
   "outputs": [
    {
     "name": "stdout",
     "output_type": "stream",
     "text": [
      "{\n",
      "  \"Nihar\": 3,\n",
      "  \"Rohan\": 5,\n",
      "  \"Zebra\": 3,\n",
      "  \"Roshan\": 1,\n",
      "  \"James\": 5\n",
      "}\n"
     ]
    }
   ],
   "source": [
    "import json\n",
    "Winners = {'Nihar':3,'Rohan':5,'Zebra':3,'Roshan':1,'James':5}\n",
    "print(json.dumps(Winners,indent = 2))"
   ]
  },
  {
   "cell_type": "markdown",
   "metadata": {},
   "source": [
    "## _Counting frequency of elements in a list using dictionary_\n",
    "Since a dictionary uses *key:value* pairs two story elements, you can use this feature effectively if you trying to calculate frequency of elements in sequence such as lists."
   ]
  },
  {
   "cell_type": "code",
   "execution_count": 9,
   "metadata": {},
   "outputs": [
    {
     "name": "stdout",
     "output_type": "stream",
     "text": [
      "Counting frequencies in list \n",
      " ['This', 'is', 'a', 'super', 'idea', 'This', '\\\\', 'idea', 'will', 'change', 'tyhe', 'idea', 'of', 'learning']\n",
      "{\n",
      " \"This\": 2,\n",
      " \"is\": 1,\n",
      " \"a\": 1,\n",
      " \"super\": 1,\n",
      " \"idea\": 3,\n",
      " \"\\\\\": 1,\n",
      " \"will\": 1,\n",
      " \"change\": 1,\n",
      " \"tyhe\": 1,\n",
      " \"of\": 1,\n",
      " \"learning\": 1\n",
      "}\n"
     ]
    }
   ],
   "source": [
    "# # Write a program to count the frequency of a list of elements using a dictionary.\n",
    "import json\n",
    "sentence = \"This is a super idea This \\ idea will change tyhe idea of learning\"\n",
    "words = sentence.split()\n",
    "d ={}\n",
    "\n",
    "for one in words:\n",
    "    key = one\n",
    "    if key not in d:\n",
    "        count = words.count(key)\n",
    "        d[key] = count\n",
    "print(\"Counting frequencies in list \\n\",words)\n",
    "print(json.dumps(d,indent = 1))"
   ]
  },
  {
   "cell_type": "markdown",
   "metadata": {},
   "source": [
    "## _Summary of dictionary manipulation, functions and methods._\n",
    "1.  ```len(<D>)``` : Returns the number of items in the dictionary.\n",
    "2.  ```<D>.get(key, [ default ])```  : Returns corresponding **value** if the key exists, else it returns Python's Error if ***default*** argument is missing otherwise returns default argument.\n",
    "3. ```<D>.items()``` : Returns a sequence of (keys, value) pairs, the items.\n",
    "4. ```<D>.keys()```  : Returns a list of sequence of keys.\n",
    "5. ```<D>.values()```  : Returns a list of sequence of values.\n",
    "6. ```dict.fromkeys(<key sequence>, [<value>])``` : Create a new dictionary **from a sequence containing all the keys** and a common **value**.\n",
    "7. ```dict.setdefault(<key>,<value>)``` : Inserts in new *key:value* pair only if the key doesn't already exist, else it returns the current ***value*** of the ***key***.\n",
    "8. ```<D>.update(<other-dictionary>)``` : Merges *key:value* pair from the new *dictionary* into the original *dictionary*, adding or replacing as needed.\n",
    "9. ```<dict>.copy()``` : Creates a shallow copy of a dictionary.\n",
    "10. ```<dict>.pop(key, <value>)``` : Removes and returns the dictionary element associated to passed key.\n",
    "11. ```<dict>.popitem()``` : Removes and returns a (key,value) pair from the dictionary.\n",
    "12. ```<D>.clear()``` : Removes all items from the dictionary.\n",
    "13. ```sorted(<dict>, [reverse = False])``` : Returns a sorted list of the dictionary keys.\n",
    "14. ```max(<dict>)``` : Give maximum key,<br>\n",
    "    ```min(<dict>)``` :  minimum key or,<br>\n",
    "    ```sum(<dict>)``` :  sum of the keys from the dictionary.<br>\n"
   ]
  },
  {
   "cell_type": "markdown",
   "metadata": {},
   "source": [
    "<h1 align=\"center\"><B>THE END </B></h1>"
   ]
  }
 ],
 "metadata": {
  "interpreter": {
   "hash": "091be7ea64e881f66ec2c929ba3591007c74cbf0c48b4a53d1096f17bce6569b"
  },
  "kernelspec": {
   "display_name": "Python 3.10.0 64-bit ('.env': venv)",
   "language": "python",
   "name": "python3"
  },
  "language_info": {
   "codemirror_mode": {
    "name": "ipython",
    "version": 3
   },
   "file_extension": ".py",
   "mimetype": "text/x-python",
   "name": "python",
   "nbconvert_exporter": "python",
   "pygments_lexer": "ipython3",
   "version": "3.10.0"
  },
  "orig_nbformat": 4
 },
 "nbformat": 4,
 "nbformat_minor": 2
}
