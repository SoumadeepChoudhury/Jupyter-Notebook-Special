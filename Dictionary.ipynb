{
 "cells": [
  {
   "cell_type": "markdown",
   "metadata": {},
   "source": [
    "# DICTIONARY\n",
    "## _Brief Overview_"
   ]
  },
  {
   "cell_type": "markdown",
   "metadata": {},
   "source": [
    "- **Dictionaries** are simply another type of _collection_ in Python, but with a twist. Dictionary in Python have a **\"key\"** and a  **\"value of that key\"**. That is, Python dictionaries are a collection of some **key-value pairs.**\n",
    "\n",
    "- Dictionaries are mutable, unordered collections with elements in the form of a key:value pairs that associate keys to values.\n",
    "\n",
    "- Dictionaries are also called a**ssociative arrays** or **mappings** or **hashes**.\n",
    "\n",
    "## NOTE\n",
    "_The Keys of a dictionary must be of immutable types._"
   ]
  },
  {
   "cell_type": "markdown",
   "metadata": {},
   "source": [
    "## _Syntax_\n",
    "```<dictionary-name> = {<key>:<value>, <key>:<value>...}```"
   ]
  },
  {
   "cell_type": "markdown",
   "metadata": {},
   "source": [
    "## _Example_\n",
    "```teachers = {\"Dimple\":\"Computer Science\", \"Karen\":\"Socialist\", \"Harpreet\":\"Mathematics\"} ```"
   ]
  },
  {
   "cell_type": "code",
   "execution_count": 6,
   "metadata": {},
   "outputs": [
    {
     "name": "stdout",
     "output_type": "stream",
     "text": [
      "Created dictionary\n",
      "{1: 78, 2: 89, 3: 77, 4: 49}\n"
     ]
    }
   ],
   "source": [
    "# # Q1) WAP to read roll numbers and marks of four students and create a dictionary From having roll numbers as keys.\n",
    "rno=[]\n",
    "mrk=[]\n",
    "for a in range(4):\n",
    "    r,m=eval(input(\"Enter Roll No., Marks: \"))\n",
    "    rno.append(r)\n",
    "    mrk.append(m)\n",
    "d={ rno[0]:mrk[0],rno[1]:mrk[1],rno[2]:mrk[2],rno[3]:mrk[3]}\n",
    "print(\"Created dictionary\")\n",
    "print(d)"
   ]
  },
  {
   "cell_type": "markdown",
   "metadata": {},
   "source": [
    "## _Accessing Elements of a Dictionary_\n",
    "- While accessing elements from a dictionary, you need the **key**.<br><br>\n",
    "**SYNTAX**\n",
    "```<dictionary-name> [<key>] ```\n",
    "\n",
    "**EXAMPLE**\n",
    "```teachers[\"Karen\"]```\n",
    "\n",
    "- A dictionary operation that takes a key and finds the corresponding value, is called **Lookup**.\n",
    "\n",
    "- Attempting to access a key that doesn't exist, causes an error.\n",
    "\n",
    "<br><br>\n",
    "## _Traversing a Dictionary_\n",
    "**SYNTAX**\n",
    "```\n",
    "for <items> in <Dictionary>:\n",
    "    process each item here\n",
    "```"
   ]
  },
  {
   "cell_type": "code",
   "execution_count": 7,
   "metadata": {},
   "outputs": [
    {
     "name": "stdout",
     "output_type": "stream",
     "text": [
      "1 : 78\n",
      "2 : 89\n",
      "3 : 77\n",
      "4 : 49\n"
     ]
    }
   ],
   "source": [
    "# # To Traverse the before dictionary in Q1....\n",
    "for key in d:\n",
    "    print(key,\":\",d[key])"
   ]
  },
  {
   "cell_type": "markdown",
   "metadata": {},
   "source": [
    "## _Accessing ```Keys ``` or ```Values``` Simultaneously_\n",
    "To see all the _keys_ in a dictionary in one go, you may write ```<dictionary>.keys()``` And to see all _values_ in one go, you may write ```<dictionary>.values()``` as shown below."
   ]
  },
  {
   "cell_type": "code",
   "execution_count": 8,
   "metadata": {},
   "outputs": [
    {
     "data": {
      "text/plain": [
       "dict_keys([1, 2, 3, 4])"
      ]
     },
     "execution_count": 8,
     "metadata": {},
     "output_type": "execute_result"
    }
   ],
   "source": [
    "d.keys()"
   ]
  },
  {
   "cell_type": "code",
   "execution_count": 9,
   "metadata": {},
   "outputs": [
    {
     "data": {
      "text/plain": [
       "dict_values([78, 89, 77, 49])"
      ]
     },
     "execution_count": 9,
     "metadata": {},
     "output_type": "execute_result"
    }
   ],
   "source": [
    "d.values()"
   ]
  },
  {
   "cell_type": "markdown",
   "metadata": {},
   "source": [
    "## _Characteristics of a Dictionary_\n",
    "1. **Unordered Set** : A Dictionary is an unordered set of **key: value** pairs.\n",
    "2. **Not a Sequence** : Unlike a *string*, *list* and *tuple*, a **dictionary** is not a sequence because it is unordered set of elements. \n",
    "3. **Indexed by Keys, Not Numbers** : Dictionaries are indexed by keys.\n",
    "4. **Keys must be Unique** : Each of the *keys* within a dictionary must be unique.\n",
    "5. **Dictionaries are Mutable**: Like *lists*, *dictionaries* are also **mutable**.<br>\n",
    "    ```<dictionary>[<key>]=<value>```"
   ]
  },
  {
   "cell_type": "code",
   "execution_count": 10,
   "metadata": {},
   "outputs": [
    {
     "name": "stdout",
     "output_type": "stream",
     "text": [
      "Created dictionary\n",
      "{1: 45, 2: 78}\n"
     ]
    }
   ],
   "source": [
    "# # Q2) Write a program to create a dictionary M which stores the marks of the students of class with roll numbers as the keys and marks as the values. Get the number of students as input.\n",
    "M={}\n",
    "n=int(input(\"How many students?: \"))\n",
    "for a in range(n):\n",
    "    r, m = eval(input(\"Enter Roll No., Marks: \"))\n",
    "    M[r]=m\n",
    "print(\"Created dictionary\")\n",
    "print(M)\n"
   ]
  },
  {
   "cell_type": "markdown",
   "metadata": {},
   "source": [
    "## _Multiple Ways of Creating Dictionaries_\n",
    "**1. Initializing a Dictionary :**\n",
    "In this method all the ```key: value``` pairs of a dictionary are written collectively, separated by commas and enclosed in curly braces.\n",
    "<br>\n",
    "```Employees = {'name':'John','salary':10000,'age':24}```\n"
   ]
  },
  {
   "cell_type": "markdown",
   "metadata": {},
   "source": [
    "**2. Adding ```key:value``` pairs to an empty dictionary. :**\n",
    "- ```Employees = {}```\n",
    "- ```Employees = dict()```<br>\n",
    "    Then the next Step...\n",
    "    - ```<dictionary>[<key>]  = <value>```"
   ]
  },
  {
   "cell_type": "markdown",
   "metadata": {},
   "source": [
    "## _The __Zip__ Function_\n",
    "The _Zip function_ clubs first value from the first set with the first value of the second set, second value from the first set with the second value of the second set, and so on.<br>"
   ]
  },
  {
   "cell_type": "code",
   "execution_count": 2,
   "metadata": {},
   "outputs": [
    {
     "data": {
      "text/plain": [
       "{'name': 'John', 'salary': 10000, 'age': 24}"
      ]
     },
     "execution_count": 2,
     "metadata": {},
     "output_type": "execute_result"
    }
   ],
   "source": [
    "Employee=dict(zip(('name','salary','age'),('John',10000,24)))\n",
    "Employee"
   ]
  },
  {
   "cell_type": "markdown",
   "metadata": {},
   "source": [
    "## _Adding Elements to Dictionary_\n",
    "You can add new elements(_key:value_ pair) to a dictionary using assignment as per following syntax. **BUT the key being added must not exist in the dictionary and must be unique.**\n",
    "```<dictionary>[<key>]=<value>```\n",
    "\n",
    "<br><br>\n",
    "Consider the following example: "
   ]
  },
  {
   "cell_type": "code",
   "execution_count": 3,
   "metadata": {},
   "outputs": [
    {
     "data": {
      "text/plain": [
       "{'name': 'John', 'salary': 10000, 'age': 24, 'dept': 'Sales'}"
      ]
     },
     "execution_count": 3,
     "metadata": {},
     "output_type": "execute_result"
    }
   ],
   "source": [
    "Employee = {'name':'John','salary':10000,'age':24}\n",
    "Employee['dept']='Sales'\n",
    "Employee"
   ]
  },
  {
   "cell_type": "markdown",
   "metadata": {},
   "source": [
    "## _Nesting Dictionaries_\n",
    "You can even add dictionaries as _Values_ inside a dictionary. Storing a dictionary inside dictionary is called _nesting of dictionaries_. <br>\n",
    "See the Example below..........."
   ]
  },
  {
   "cell_type": "code",
   "execution_count": 4,
   "metadata": {},
   "outputs": [
    {
     "name": "stdout",
     "output_type": "stream",
     "text": [
      "Employee John :\n",
      " Age:  25\n",
      "Salary:  20000\n",
      "Employee Diya :\n",
      " Age:  35\n",
      "Salary:  50000\n"
     ]
    }
   ],
   "source": [
    "Employees={'John':{'age':25,'salary':20000},'Diya':{'age':35,'salary':50000}}\n",
    "for key in Employees:\n",
    "    print(\"Employee\",key,\":\")\n",
    "    print(' Age: ',str(Employees[key]['age']))\n",
    "    print('Salary: ',str(Employees[key]['salary']))"
   ]
  }
 ],
 "metadata": {
  "interpreter": {
   "hash": "091be7ea64e881f66ec2c929ba3591007c74cbf0c48b4a53d1096f17bce6569b"
  },
  "kernelspec": {
   "display_name": "Python 3.10.0 64-bit ('.env': venv)",
   "language": "python",
   "name": "python3"
  },
  "language_info": {
   "codemirror_mode": {
    "name": "ipython",
    "version": 3
   },
   "file_extension": ".py",
   "mimetype": "text/x-python",
   "name": "python",
   "nbconvert_exporter": "python",
   "pygments_lexer": "ipython3",
   "version": "3.10.0"
  },
  "orig_nbformat": 4
 },
 "nbformat": 4,
 "nbformat_minor": 2
}
