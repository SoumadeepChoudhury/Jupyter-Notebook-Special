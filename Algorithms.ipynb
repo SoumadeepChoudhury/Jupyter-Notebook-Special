{
 "cells": [
  {
   "attachments": {},
   "cell_type": "markdown",
   "metadata": {},
   "source": [
    "# Chapter 2 : Getting Started"
   ]
  },
  {
   "cell_type": "code",
   "execution_count": 8,
   "metadata": {},
   "outputs": [
    {
     "name": "stdout",
     "output_type": "stream",
     "text": [
      "[26, 31, 41, 41, 58, 59]\n"
     ]
    }
   ],
   "source": [
    "# Insertion Sort : Ascending\n",
    "arr=[31,41,59,26,41,58]\n",
    "for i in range(2,len(arr)):\n",
    "    key=arr[i]\n",
    "    j=i-1\n",
    "    while j>=0 and arr[j]>key:\n",
    "        arr[j+1]=arr[j]\n",
    "        j=j-1\n",
    "    arr[j+1]=key\n",
    "print(arr)"
   ]
  },
  {
   "cell_type": "code",
   "execution_count": 5,
   "metadata": {},
   "outputs": [
    {
     "name": "stdout",
     "output_type": "stream",
     "text": [
      "[59, 58, 41, 41, 31, 26]\n"
     ]
    }
   ],
   "source": [
    "# Insertion Sort : Descending\n",
    "arr=[31,41,59,26,41,58]\n",
    "for i in range(0,len(arr)-1):\n",
    "    key=arr[i]\n",
    "    j=i\n",
    "    while(i>=0):\n",
    "        if arr[i+1]>key:\n",
    "            arr[i]=arr[i+1]\n",
    "            arr[i+1]=key\n",
    "        i-=1\n",
    "        key=arr[i]\n",
    "    i=j\n",
    "print(arr)"
   ]
  },
  {
   "cell_type": "code",
   "execution_count": 7,
   "metadata": {},
   "outputs": [
    {
     "name": "stdout",
     "output_type": "stream",
     "text": [
      "6 is found in the arr.\n",
      "11 is not found in the arr.\n"
     ]
    }
   ],
   "source": [
    "# Linear Search\n",
    "arr=[1,2,3,4,5,6,7,8,9,10]\n",
    "x=6 #Case 1\n",
    "y=11 # Case 2\n",
    "found_case1=False\n",
    "found_case2=False\n",
    "for i in arr:\n",
    "    if(i==x):\n",
    "        found_case1=True\n",
    "    if(i==y):\n",
    "        found_case2=True\n",
    "if found_case1:\n",
    "    print(x,\"is found in the arr.\")\n",
    "else:\n",
    "    print(x,\"is not found in the arr.\")\n",
    "if found_case2:\n",
    "    print(y,\"is found in the arr.\")\n",
    "else:\n",
    "    print(y,\"is not found in the arr.\")"
   ]
  }
 ],
 "metadata": {
  "kernelspec": {
   "display_name": "Python 3 (ipykernel)",
   "language": "python",
   "name": "python3"
  },
  "language_info": {
   "codemirror_mode": {
    "name": "ipython",
    "version": 3
   },
   "file_extension": ".py",
   "mimetype": "text/x-python",
   "name": "python",
   "nbconvert_exporter": "python",
   "pygments_lexer": "ipython3",
   "version": "3.11.3"
  },
  "orig_nbformat": 4
 },
 "nbformat": 4,
 "nbformat_minor": 2
}
